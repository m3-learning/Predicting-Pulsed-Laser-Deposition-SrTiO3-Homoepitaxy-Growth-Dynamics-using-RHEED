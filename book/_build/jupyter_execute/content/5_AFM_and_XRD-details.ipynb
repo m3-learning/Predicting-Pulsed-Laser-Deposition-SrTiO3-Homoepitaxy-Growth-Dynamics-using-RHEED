{
 "cells": [
  {
   "attachments": {},
   "cell_type": "markdown",
   "id": "0",
   "metadata": {},
   "source": [
    "# AFM and XRD with Details"
   ]
  },
  {
   "cell_type": "code",
   "execution_count": null,
   "id": "1",
   "metadata": {},
   "outputs": [],
   "source": [
    "%load_ext autoreload\n",
    "%autoreload 2\n",
    "import os\n",
    "import re\n",
    "import numpy as np\n",
    "import matplotlib.pyplot as plt\n",
    "import sys\n",
    "sys.path.append('../../src/')\n",
    "from viz.style import set_style\n",
    "from util.file_IO import download_and_unzip\n",
    "from viz.printing import printer\n",
    "from viz.layout import layout_fig, labelfigs\n",
    "from sto_rheed.AFM import visualize_afm_image, afm_substrate\n",
    "from sto_rheed.XRD import plot_xrd, plot_rsm\n",
    "\n",
    "# from be.Dataset import BE_Dataset\n",
    "printing = printer(basepath = '../Figures/2.AFM_XRD/', fileformats=['png', 'svg'], dpi=600)\n",
    "set_style(\"printing\")"
   ]
  },
  {
   "attachments": {},
   "cell_type": "markdown",
   "id": "2",
   "metadata": {},
   "source": [
    "## 1. Download Datasets from Zenodo"
   ]
  },
  {
   "cell_type": "code",
   "execution_count": null,
   "id": "3",
   "metadata": {},
   "outputs": [],
   "source": [
    "# # Download the Data file from Zenodo\n",
    "# download=False\n",
    "# if download:\n",
    "#     # full size version\n",
    "#     urls = ['https://zenodo.org/record/8000271/files/AFM.zip?download=1',\n",
    "#             'https://zenodo.org/record/8000271/files/XRD.zip?download=1']\n",
    "    \n",
    "#     for url in urls:\n",
    "#         # Specify the filename and the path to save the file\n",
    "#         filename = re.split(r'\\?', os.path.basename(url))[0]\n",
    "#         save_path = './../2023_RHEED_PLD_SrTiO3/'\n",
    "\n",
    "#         # download the file\n",
    "#         download_and_unzip(filename, url, save_path)\n",
    "# if os.path.isfile('../Data/AFM.zip'): os.remove('../Data/AFM.zip')\n",
    "# if os.path.isfile('../Data/XRD.zip'): os.remove('../Data/XRD.zip')"
   ]
  },
  {
   "attachments": {},
   "cell_type": "markdown",
   "id": "4",
   "metadata": {},
   "source": [
    "## 2. AFM Results Analysis"
   ]
  },
  {
   "attachments": {},
   "cell_type": "markdown",
   "id": "5",
   "metadata": {},
   "source": [
    "### 2.1 Sample 1 - treated_213nm"
   ]
  },
  {
   "attachments": {},
   "cell_type": "markdown",
   "id": "6",
   "metadata": {},
   "source": [
    "#### 2.1.1 Visualize and save the afm figures with colorbar and scalebar"
   ]
  },
  {
   "cell_type": "code",
   "execution_count": null,
   "id": "7",
   "metadata": {},
   "outputs": [],
   "source": [
    "img1 = np.loadtxt('../Data/AFM/treated_213nm-substrate.txt')[:256]\n",
    "scalebar_dict = {'image_size': 5000, 'scale_size': 1000, 'units': 'nm'}\n",
    "visualize_afm_image(img1, colorbar_range=[-4e-10, 4e-10], figsize=(6,4), scalebar_dict=scalebar_dict, \n",
    "                    filename='treated_213nm-substrate', printing=printing)"
   ]
  },
  {
   "cell_type": "code",
   "execution_count": null,
   "id": "8",
   "metadata": {},
   "outputs": [],
   "source": [
    "img2 = np.loadtxt('../Data/AFM/treated_213nm-film.txt')[:256]\n",
    "scalebar_dict = {'image_size': 2008, 'scale_size': 500, 'units': 'nm'}\n",
    "visualize_afm_image(img2, colorbar_range=[-4e-10, 4e-10], figsize=(6,4), scalebar_dict=scalebar_dict, \n",
    "                    filename='treated_213nm-film', printing=printing)"
   ]
  },
  {
   "cell_type": "code",
   "execution_count": null,
   "id": "9",
   "metadata": {},
   "outputs": [],
   "source": [
    "# high resolution image\n",
    "img2 = np.loadtxt('../Data/AFM/treated_213nm-film.txt')[:256]\n",
    "scalebar_dict = {'image_size': 2008, 'scale_size': 500, 'units': 'nm'}\n",
    "visualize_afm_image(img2, colorbar_range=[-4e-10, 4e-10], figsize=(12,8), scalebar_dict=scalebar_dict, \n",
    "                    filename='treated_213nm-film-high_res', printing=printing)"
   ]
  },
  {
   "cell_type": "code",
   "execution_count": null,
   "id": "10",
   "metadata": {},
   "outputs": [],
   "source": []
  },
  {
   "attachments": {},
   "cell_type": "markdown",
   "id": "11",
   "metadata": {},
   "source": [
    "#### 2.1.2 Calculate the substrate step height, step width, and miscut"
   ]
  },
  {
   "cell_type": "code",
   "execution_count": null,
   "id": "12",
   "metadata": {},
   "outputs": [],
   "source": [
    "img3 = np.loadtxt('../Data/AFM/treated_213nm-substrate-tilted.txt')[:256]\n",
    "\n",
    "scalebar_dict = {'image_size': 5000, 'scale_size': 1000, 'units': 'nm'}\n",
    "visualize_afm_image(img3, colorbar_range=None, figsize=(6,4), scalebar_dict=scalebar_dict)"
   ]
  },
  {
   "cell_type": "code",
   "execution_count": null,
   "id": "13",
   "metadata": {},
   "outputs": [],
   "source": [
    "# rotate the angle to make step edges horizontal\n",
    "analyzer = afm_substrate(img3, pixels=256, size=5e-6)\n",
    "img_rot, size_rot = analyzer.rotate_image(angle=-50)"
   ]
  },
  {
   "cell_type": "code",
   "execution_count": null,
   "id": "14",
   "metadata": {},
   "outputs": [],
   "source": [
    "x, z, peak_indices, valley_indices = analyzer.slice_rotate(img_rot, size_rot, j=60, prominence=1e-5, width=2, xz_angle=3, demo=True)"
   ]
  },
  {
   "cell_type": "code",
   "execution_count": null,
   "id": "15",
   "metadata": {},
   "outputs": [],
   "source": [
    "# with the provided height from literature\n",
    "step_heights, step_widths, miscut = analyzer.calculate_simple(x, z, peak_indices, fixed_height=3.91e-10, demo=True)\n",
    "step_heights, step_widths, miscut = analyzer.calculate_substrate_properties(img_rot, size_rot, xz_angle=3, prominence=1e-3, width=2, style='simple', fixed_height=3.91e-10, std_range=1, demo=False)"
   ]
  },
  {
   "cell_type": "code",
   "execution_count": null,
   "id": "16",
   "metadata": {},
   "outputs": [],
   "source": [
    "# calculate the height from afm figure\n",
    "step_heights, step_widths, miscut = analyzer.calculate_simple(x, z, peak_indices, demo=True)\n",
    "step_heights, step_widths, miscut = analyzer.calculate_substrate_properties(img_rot, size_rot, xz_angle=3, prominence=1e-10, width=2, style='simple', std_range=1, demo=False)"
   ]
  },
  {
   "cell_type": "code",
   "execution_count": null,
   "id": "17",
   "metadata": {},
   "outputs": [],
   "source": [
    "x, z, peak_indices, valley_indices = analyzer.slice_rotate(img_rot, size_rot, j=100, prominence=1e-11, width=2, xz_angle=0, demo=True)\n",
    "step_heights, step_widths, miscut = analyzer.calculate_fit(x, z, peak_indices, valley_indices, fixed_height=3.91e-10, demo=True)"
   ]
  },
  {
   "attachments": {},
   "cell_type": "markdown",
   "id": "18",
   "metadata": {},
   "source": [
    "The \"simple\" method with provided step height gives a more accurate results for the step width and miscut: \n",
    "\n",
    "    Step height = 3.91e-10 +- 0.00e+00\n",
    "    Step width = 2.13e-07 +- 8.87e-08\n",
    "    Miscut = 0.131° +- 0.074°"
   ]
  },
  {
   "attachments": {},
   "cell_type": "markdown",
   "id": "19",
   "metadata": {},
   "source": [
    "### 2.2 Sample 2 - treated_81nm:"
   ]
  },
  {
   "attachments": {},
   "cell_type": "markdown",
   "id": "20",
   "metadata": {},
   "source": [
    "#### 2.2.1 Visualize and save the afm figures with colorbar and scalebar"
   ]
  },
  {
   "cell_type": "code",
   "execution_count": null,
   "id": "21",
   "metadata": {},
   "outputs": [],
   "source": [
    "img1 = np.loadtxt('../Data/AFM/treated_81nm-substrate.txt')[:256]\n",
    "scalebar_dict = {'image_size': 5000, 'scale_size': 1000, 'units': 'nm'}\n",
    "visualize_afm_image(img1, colorbar_range=[-4e-10, 4e-10], figsize=(6,4), scalebar_dict=scalebar_dict, \n",
    "                    filename='treated_81nm-substrate', printing=printing)"
   ]
  },
  {
   "cell_type": "code",
   "execution_count": null,
   "id": "22",
   "metadata": {},
   "outputs": [],
   "source": [
    "img2 = np.loadtxt('../Data/AFM/treated_81nm-film.txt')[:256]\n",
    "scalebar_dict = {'image_size': 2008, 'scale_size': 500, 'units': 'nm'}\n",
    "visualize_afm_image(img2, colorbar_range=[-4e-10, 4e-10], figsize=(6,4), scalebar_dict=scalebar_dict, \n",
    "                    filename='treated_81nm-film', printing=printing)"
   ]
  },
  {
   "cell_type": "code",
   "execution_count": null,
   "id": "23",
   "metadata": {},
   "outputs": [],
   "source": [
    "img3 = np.loadtxt('../Data/AFM/treated_81nm-film.txt')[:256]\n",
    "scalebar_dict = {'image_size': 2008, 'scale_size': 500, 'units': 'nm'}\n",
    "visualize_afm_image(img2, colorbar_range=[-4e-10, 4e-10], figsize=(12,8), scalebar_dict=scalebar_dict, \n",
    "                    filename='treated_81nm-film-high_res', printing=printing)"
   ]
  },
  {
   "attachments": {},
   "cell_type": "markdown",
   "id": "24",
   "metadata": {},
   "source": [
    "#### 2.2.2 Calculate the substrate step height, step width, and miscut"
   ]
  },
  {
   "cell_type": "code",
   "execution_count": null,
   "id": "25",
   "metadata": {},
   "outputs": [],
   "source": [
    "img3 = np.loadtxt('../Data/AFM/treated_81nm-substrate.txt')[:256]\n",
    "\n",
    "scalebar_dict = {'image_size': 5000, 'scale_size': 1000, 'units': 'nm'}\n",
    "visualize_afm_image(img3, colorbar_range=None, figsize=(6,4), scalebar_dict=scalebar_dict)"
   ]
  },
  {
   "cell_type": "code",
   "execution_count": null,
   "id": "26",
   "metadata": {},
   "outputs": [],
   "source": [
    "# rotate the angle to make step edges horizontal\n",
    "analyzer = afm_substrate(img3, pixels=256, size=5e-6)\n",
    "img_rot, size_rot = analyzer.rotate_image(angle=-56)"
   ]
  },
  {
   "cell_type": "code",
   "execution_count": null,
   "id": "27",
   "metadata": {},
   "outputs": [],
   "source": [
    "prominence = 1e-13\n",
    "width = 1.5\n",
    "xz_angle = 0\n",
    "x, z, peak_indices, valley_indices = analyzer.slice_rotate(img_rot, size_rot, j=60, prominence=prominence, width=width, xz_angle=xz_angle, demo=True)"
   ]
  },
  {
   "cell_type": "code",
   "execution_count": null,
   "id": "28",
   "metadata": {},
   "outputs": [],
   "source": [
    "# with the provided height from literature\n",
    "step_heights, step_widths, miscut = analyzer.calculate_simple(x, z, peak_indices, fixed_height=3.91e-5, demo=True)\n",
    "step_heights, step_widths, miscut = analyzer.calculate_substrate_properties(img_rot, size_rot, xz_angle=xz_angle, prominence=prominence, width=width, \n",
    "                                                    style='simple', fixed_height=3.91e-10, std_range=1, demo=False)\n"
   ]
  },
  {
   "cell_type": "code",
   "execution_count": null,
   "id": "29",
   "metadata": {},
   "outputs": [],
   "source": [
    "# calculate the height from afm figure\n",
    "step_heights, step_widths, miscut = analyzer.calculate_simple(x, z, peak_indices, demo=True)\n",
    "step_heights, step_widths, miscut = analyzer.calculate_substrate_properties(img_rot, size_rot, xz_angle=2, prominence=1e-2, width=1.5, style='simple', std_range=1, demo=False)\n"
   ]
  },
  {
   "cell_type": "code",
   "execution_count": null,
   "id": "30",
   "metadata": {},
   "outputs": [],
   "source": [
    "x, z, peak_indices, valley_indices = analyzer.slice_rotate(img_rot, size_rot, j=100, prominence=1e-13, width=1, xz_angle=0, demo=True)\n",
    "step_heights, step_widths, miscut = analyzer.calculate_fit(x, z, peak_indices, valley_indices, fixed_height=3.91e-10, demo=True)"
   ]
  },
  {
   "cell_type": "code",
   "execution_count": null,
   "id": "31",
   "metadata": {},
   "outputs": [],
   "source": [
    "# with the provided height from literature\n",
    "step_heights, step_widths, miscut = analyzer.calculate_substrate_properties(img_rot, size_rot, xz_angle=0, prominence=1e-13, width=1, style='fit', fixed_height=3.91e-10, std_range=1, demo=False)"
   ]
  },
  {
   "attachments": {},
   "cell_type": "markdown",
   "id": "32",
   "metadata": {},
   "source": [
    "The \"simple\" method with provided step height gives a more accurate results for the step width and miscut: \n",
    "\n",
    "    Step height = 3.91e-10 +- 5.17e-26\n",
    "    Step width = 8.07e-08 +- 4.39e-08\n",
    "    Miscut = 0.330° +- 0.113°"
   ]
  },
  {
   "attachments": {},
   "cell_type": "markdown",
   "id": "33",
   "metadata": {},
   "source": [
    "### 2.3 Sample 3 - untreated_162nm"
   ]
  },
  {
   "attachments": {},
   "cell_type": "markdown",
   "id": "34",
   "metadata": {},
   "source": [
    "#### 2.3.1 Visualize and save the afm figures with colorbar and scalebar"
   ]
  },
  {
   "cell_type": "code",
   "execution_count": null,
   "id": "35",
   "metadata": {},
   "outputs": [],
   "source": [
    "img1 = np.loadtxt('../Data/AFM/untreated_162nm-substrate.txt')[:256]\n",
    "img1 = np.rot90(img1, k=2)\n",
    "scalebar_dict = {'image_size': 5000, 'scale_size': 1000, 'units': 'nm'}\n",
    "visualize_afm_image(img1, colorbar_range=[-4e-10, 4e-10], figsize=(6,4), \n",
    "                    scalebar_dict=scalebar_dict, filename='untreated_162nm-substrate', printing=printing)\n"
   ]
  },
  {
   "cell_type": "code",
   "execution_count": null,
   "id": "36",
   "metadata": {},
   "outputs": [],
   "source": [
    "img2 = np.loadtxt('../Data/AFM/untreated_162nm-film.txt')[:256]\n",
    "scalebar_dict = {'image_size': 2008, 'scale_size': 500, 'units': 'nm'}\n",
    "visualize_afm_image(img2, colorbar_range=[-4e-10, 4e-10], figsize=(6,4), \n",
    "                    scalebar_dict=scalebar_dict, filename='untreated_162nm-film', printing=printing)"
   ]
  },
  {
   "cell_type": "code",
   "execution_count": null,
   "id": "37",
   "metadata": {},
   "outputs": [],
   "source": [
    "img2 = np.loadtxt('../Data/AFM/untreated_162nm-film.txt')[:256]\n",
    "scalebar_dict = {'image_size': 2008, 'scale_size': 500, 'units': 'nm'}\n",
    "visualize_afm_image(img2, colorbar_range=[-4e-10, 4e-10], figsize=(12,8), \n",
    "                    scalebar_dict=scalebar_dict, filename='untreated_162nm-film-high_res', printing=printing)"
   ]
  },
  {
   "cell_type": "code",
   "execution_count": null,
   "id": "38",
   "metadata": {},
   "outputs": [],
   "source": []
  },
  {
   "attachments": {},
   "cell_type": "markdown",
   "id": "39",
   "metadata": {},
   "source": [
    "#### 2.3.2 Calculates the substrate step height, step width, and miscut"
   ]
  },
  {
   "cell_type": "code",
   "execution_count": null,
   "id": "40",
   "metadata": {},
   "outputs": [],
   "source": [
    "img3 = np.loadtxt('../Data/AFM/untreated_162nm-substrate-tilted.txt')[:256]\n",
    "\n",
    "scalebar_dict = {'image_size': 5000, 'scale_size': 1000, 'units': 'nm'}\n",
    "visualize_afm_image(img3, colorbar_range=None, figsize=(6,4), scalebar_dict=scalebar_dict)"
   ]
  },
  {
   "cell_type": "code",
   "execution_count": null,
   "id": "41",
   "metadata": {},
   "outputs": [],
   "source": [
    "# rotate the angle to make step edges horizontal\n",
    "analyzer = afm_substrate(img3, pixels=256, size=5e-6)\n",
    "img_rot, size_rot = analyzer.rotate_image(angle=65)"
   ]
  },
  {
   "cell_type": "code",
   "execution_count": null,
   "id": "42",
   "metadata": {},
   "outputs": [],
   "source": [
    "x, z, peak_indices, valley_indices = analyzer.slice_rotate(img_rot, size_rot, j=60, prominence=1e-13, width=2, xz_angle=2, demo=True)"
   ]
  },
  {
   "cell_type": "code",
   "execution_count": null,
   "id": "43",
   "metadata": {},
   "outputs": [],
   "source": [
    "# with the provided height from literature\n",
    "step_heights, step_widths, miscut = analyzer.calculate_simple(x, z, peak_indices, fixed_height=3.91e-10/2, demo=True)\n",
    "step_heights, step_widths, miscut = analyzer.calculate_substrate_properties(img_rot, size_rot, xz_angle=2, prominence=1e-13, width=2, style='simple', fixed_height=3.91e-10/2, std_range=1, demo=False)"
   ]
  },
  {
   "cell_type": "code",
   "execution_count": null,
   "id": "44",
   "metadata": {},
   "outputs": [],
   "source": [
    "# calculate the height from afm figure\n",
    "step_heights, step_widths, miscut = analyzer.calculate_simple(x, z, peak_indices, demo=True)\n",
    "step_heights, step_widths, miscut = analyzer.calculate_substrate_properties(img_rot, size_rot, xz_angle=2, prominence=1e-13, width=2, style='simple', std_range=1, demo=False)"
   ]
  },
  {
   "cell_type": "code",
   "execution_count": null,
   "id": "45",
   "metadata": {},
   "outputs": [],
   "source": [
    "x, z, peak_indices, valley_indices = analyzer.slice_rotate(img_rot, size_rot, j=100, prominence=1e-10, width=1, xz_angle=0, demo=True)\n",
    "step_heights, step_widths, miscut = analyzer.calculate_fit(x, z, peak_indices, valley_indices, fixed_height=3.91e-10/2, demo=True)"
   ]
  },
  {
   "cell_type": "code",
   "execution_count": null,
   "id": "46",
   "metadata": {},
   "outputs": [],
   "source": [
    "# with the provided height from literature\n",
    "step_heights, step_widths, miscut = analyzer.calculate_substrate_properties(img_rot, size_rot, xz_angle=0, prominence=1e-10, width=1, \n",
    "style='fit', fixed_height=3.91e-10/2, std_range=1, demo=False)"
   ]
  },
  {
   "attachments": {},
   "cell_type": "markdown",
   "id": "47",
   "metadata": {},
   "source": [
    "The \"simple\" method with provided step height gives a more accurate results for the step width and miscut: \n",
    "\n",
    "    Step height = 1.95e-10 +- 0.00e+00\n",
    "    Step width = 1.62e-07 +- 8.27e-08\n",
    "    Miscut = 0.090° +- 0.135°"
   ]
  },
  {
   "attachments": {},
   "cell_type": "markdown",
   "id": "48",
   "metadata": {},
   "source": [
    "## 3. X-ray Diffraction and Reciprocal Space Mapping"
   ]
  },
  {
   "attachments": {},
   "cell_type": "markdown",
   "id": "49",
   "metadata": {},
   "source": [
    "\n",
    "### 3.1 $2\\theta$ -$\\omega$ scans"
   ]
  },
  {
   "cell_type": "code",
   "execution_count": null,
   "id": "50",
   "metadata": {},
   "outputs": [],
   "source": [
    "fig, ax = plt.subplots(1, 1, figsize=(8,3))\n",
    "\n",
    "files = ['../Data/XRD/substrate-XRD_42_49.xrdml', '../Data/XRD/treated_213nm-XRD_42_29.xrdml', \n",
    "         '../Data/XRD/treated_81nm-XRD_42_29.xrdml', '../Data/XRD/untreated_162nm-XRD_42_29.xrdml']\n",
    "labels = ['substrate', 'treated_213nm', 'treated_81nm', 'untreated_162nm']\n",
    "plot_xrd(ax, files, labels, diff=None, xrange=(41.5, 49.5))\n",
    "labelfigs(ax, 0, loc='tr', size=15, style='b', inset_fraction=(0.8, 0.1))"
   ]
  },
  {
   "attachments": {},
   "cell_type": "markdown",
   "id": "51",
   "metadata": {},
   "source": [
    "### 3.2 Symmetric Reciprocal Space Mapping (002)"
   ]
  },
  {
   "cell_type": "code",
   "execution_count": null,
   "id": "52",
   "metadata": {},
   "outputs": [],
   "source": [
    "files = ['../Data/XRD/treated_213nm-RSM_002.xrdml',\n",
    "         '../Data/XRD/treated_81nm-RSM_002.xrdml',\n",
    "         '../Data/XRD/untreated_162nm-RSM_002.xrdml']\n",
    "titles = ['treated_213nm', 'treated_81nm', 'untreated_162nm']\n",
    "\n",
    "fig, axes = layout_fig(3, 1, figsize=(6,12))\n",
    "for i, ax in enumerate(axes):\n",
    "    plot_rsm(ax, files[i], title=titles[i])\n",
    "    labelfigs(ax, i, loc='tr', size=15)\n",
    "plt.show()\n",
    "print(f'\\033[1mFig.\\033[0m reciprocal space mapping in (002) for sample a: treated_213nm, b: treated_81nm, c: untreated_162nm.')"
   ]
  },
  {
   "attachments": {},
   "cell_type": "markdown",
   "id": "53",
   "metadata": {},
   "source": [
    "### 3.3 Symmetric Reciprocal Space Mapping (103)"
   ]
  },
  {
   "cell_type": "code",
   "execution_count": null,
   "id": "54",
   "metadata": {},
   "outputs": [],
   "source": [
    "files = ['../Data/XRD/treated_213nm-RSM_103.xrdml',\n",
    "         '../Data/XRD/treated_81nm-RSM_103.xrdml',\n",
    "         '../Data/XRD/untreated_162nm-RSM_103.xrdml']\n",
    "titles = ['treated_213nm', 'treated_81nm', 'untreated_162nm']\n",
    "\n",
    "fig, axes = layout_fig(3, 1, figsize=(6,15))\n",
    "for i, ax in enumerate(axes):\n",
    "    plot_rsm(ax, files[i], title=titles[i])\n",
    "    labelfigs(ax, i, loc='tr', size=15)\n",
    "plt.show()\n",
    "print(f'\\033[1mFig.\\033[0m reciprocal space mapping in (103) for sample a: treated_213nm, b: treated_81nm, c: untreated_162nm.')"
   ]
  },
  {
   "attachments": {},
   "cell_type": "markdown",
   "id": "55",
   "metadata": {},
   "source": [
    "### 3.4 Summary Figure of XRD and RSM results"
   ]
  },
  {
   "cell_type": "code",
   "execution_count": null,
   "id": "56",
   "metadata": {},
   "outputs": [],
   "source": [
    "fig = plt.figure(figsize=(8,8))\n",
    "\n",
    "ax0 = plt.subplot2grid((4, 2), (0, 0), colspan=2)  # colspan=2 means the plot spans 2 columns\n",
    "files = ['../Data/XRD/substrate-XRD_42_49.xrdml', '../Data/XRD/treated_213nm-XRD_42_29.xrdml', '../Data/XRD/treated_81nm-XRD_42_29.xrdml', '../Data/XRD/untreated_162nm-XRD_42_29.xrdml']\n",
    "labels = ['substrate', 'treated_213nm', 'treated_81nm', 'untreated_162nm']\n",
    "plot_xrd(ax0, files, labels, diff=None, xrange=(44, 48.8), label_size=10, tick_size=8, legend_size=10)\n",
    "labelfigs(ax0, 0, loc='tr', size=15, style='b', inset_fraction=(0.8, 0.1))\n",
    "\n",
    "files_002 = ['../Data/XRD/treated_213nm-RSM_002.xrdml', '../Data/XRD/treated_81nm-RSM_002.xrdml', '../Data/XRD/untreated_162nm-RSM_002.xrdml']\n",
    "for i, file in enumerate(files_002):\n",
    "    ax = plt.subplot2grid((4, 2), (i+1, 0))\n",
    "    plot_rsm(ax, file, label_size=10, tick_size=8)\n",
    "    ax.set_xlim(-0.0032, 0.0032)\n",
    "    ax.set_ylim(0.505, 0.520)\n",
    "    \n",
    "    labelfigs(ax, i+1, loc='tr', size=15)\n",
    "    \n",
    "files_103 = ['../Data/XRD/treated_213nm-RSM_103.xrdml', '../Data/XRD/treated_81nm-RSM_103.xrdml', '../Data/XRD/untreated_162nm-RSM_103.xrdml']\n",
    "for i, file in enumerate(files_103):\n",
    "    ax = plt.subplot2grid((4, 2), (i+1, 1))\n",
    "    plot_rsm(ax, file, label_size=10, tick_size=8, vmin=3, vmax=1e6)\n",
    "    ax.set_xlim(0.252, 0.260)\n",
    "    ax.set_ylim(0.764, 0.773)\n",
    "    labelfigs(ax, i+4, loc='tr', size=15)\n",
    "    \n",
    "plt.tight_layout()\n",
    "printing.savefig(fig, 'S2-XRD_RSM')\n",
    "plt.show() \n",
    "\n",
    "print(f'\\033[1mFig. S2 a\\033[0m X-ray Diffraction result for a typical SrTiO3 substrate and samples. \\\n",
    "\\033[1mb, c, d\\033[0m Reciprocal Space Mapping results in (002) orientaion for sample treated_213nm, treated_81nm and untreated_162nm, respectively. \\\n",
    "\\033[1me, f, g\\033[0m Reciprocal Space Mapping results in (103) orientaion for sample treated_213nm, treated_81nm and untreated_162nm, respectively.')"
   ]
  },
  {
   "cell_type": "code",
   "execution_count": null,
   "id": "57",
   "metadata": {},
   "outputs": [],
   "source": []
  }
 ],
 "metadata": {
  "kernelspec": {
   "display_name": "RHEED",
   "language": "python",
   "name": "python3"
  },
  "language_info": {
   "codemirror_mode": {
    "name": "ipython",
    "version": 3
   },
   "file_extension": ".py",
   "mimetype": "text/x-python",
   "name": "python",
   "nbconvert_exporter": "python",
   "pygments_lexer": "ipython3",
   "version": "3.11.10"
  }
 },
 "nbformat": 4,
 "nbformat_minor": 5
}
