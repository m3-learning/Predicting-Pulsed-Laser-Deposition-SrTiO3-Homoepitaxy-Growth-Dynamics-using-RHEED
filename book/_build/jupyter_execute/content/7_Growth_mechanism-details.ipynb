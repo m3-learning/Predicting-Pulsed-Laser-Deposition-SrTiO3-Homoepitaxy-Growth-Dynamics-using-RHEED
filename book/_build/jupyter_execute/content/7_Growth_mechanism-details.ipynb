{
 "cells": [
  {
   "attachments": {},
   "cell_type": "markdown",
   "id": "0",
   "metadata": {},
   "source": [
    "# Growth Mechanism with Details"
   ]
  },
  {
   "cell_type": "code",
   "execution_count": null,
   "id": "1",
   "metadata": {},
   "outputs": [],
   "source": [
    "%load_ext autoreload\n",
    "%autoreload 2\n",
    "%matplotlib inline\n",
    "\n",
    "import sys\n",
    "import numpy as np\n",
    "import os\n",
    "import matplotlib.pyplot as plt\n",
    "from matplotlib import gridspec\n",
    "from matplotlib import colors as mcolors \n",
    "from mayavi import mlab\n",
    "\n",
    "sys.path.append('../../src')\n",
    "from viz.style import set_style\n",
    "from viz.printing import printer\n",
    "from viz.layout import imagemap, layout_fig, labelfigs\n",
    "from sto_rheed.Dataset import RHEED_parameter_dataset, RHEED_spot_Dataset\n",
    "from sto_rheed.Viz import Viz, rgba_to_rgb\n",
    "from sto_rheed.drawing_3d import draw_box, sphere_to_surface\n",
    "from sto_rheed.Analysis import detect_peaks, analyze_curves, process_rheed_data \n",
    "from sto_rheed.Packed_functions import decay_curve_examples\n",
    "from sto_rheed.Fit import NormalizeData\n",
    "\n",
    "printing = printer(basepath = '../Figures/3.Growth_mechanism/')\n",
    "printing_plot = printer(basepath = '../Figures/3.Growth_mechanism/', fileformats=['png, svg'], dpi=1200)\n",
    "if not os.path.isdir('../Data/Plume_results'): os.mkdir('../Data/Plume_results')\n",
    "set_style(\"printing\")\n",
    "\n",
    "plot_size = (6, 2)\n",
    "color_blue = (44/255,123/255,182/255)\n",
    "color_gray = (128/255, 128/255, 128/255, 0.5)\n",
    "seq_colors = ['#00429d','#2e59a8','#4771b2','#5d8abd','#73a2c6','#8abccf','#a5d5d8','#c5eddf','#ffffe0']\n",
    "bgc1, bgc2 = (*mcolors.hex2color(seq_colors[0]), 0.3), (*mcolors.hex2color(seq_colors[5]), 0.3)\n",
    "bgc1_, bgc2_ = rgba_to_rgb(bgc1), rgba_to_rgb(bgc2)"
   ]
  },
  {
   "attachments": {},
   "cell_type": "markdown",
   "id": "2",
   "metadata": {},
   "source": [
    "## 1. Visualize the spots from collected data"
   ]
  },
  {
   "cell_type": "code",
   "execution_count": null,
   "id": "3",
   "metadata": {},
   "outputs": [],
   "source": [
    "path = 'D:/STO_STO-Data/RHEED/STO_STO_Berkeley/STO_STO_test6_06292022-standard.h5'\n",
    "D1_spot = RHEED_spot_Dataset(path, sample_name='treated_213nm')\n",
    "D1_spot.data_info"
   ]
  },
  {
   "cell_type": "code",
   "execution_count": null,
   "id": "4",
   "metadata": {},
   "outputs": [],
   "source": [
    "path = 'D:/STO_STO-Data/RHEED/STO_STO_Berkeley/STO_STO_test6_06292022-standard.h5'\n",
    "D1_spot = RHEED_spot_Dataset(path, sample_name='treated_213nm')\n",
    "D1_spot.data_info\n",
    "\n",
    "path = 'D:/STO_STO-Data/RHEED/STO_STO_Berkeley/test6_gaussian_fit_parameters_all-04232023.h5'\n",
    "D1_para = RHEED_parameter_dataset(path, camera_freq=500, sample_name='treated_213nm')\n",
    "D1_para.data_info"
   ]
  },
  {
   "cell_type": "code",
   "execution_count": null,
   "id": "5",
   "metadata": {},
   "outputs": [],
   "source": [
    "img_all = D1_spot.growth_dataset(growth='growth_2', index=0)\n",
    "img_spot1 = D1_para.growth_dataset(growth='growth_2', metric='raw_image', spot='spot_1', index=100)\n",
    "img_spot2 = D1_para.growth_dataset(growth='growth_2', metric='raw_image', spot='spot_2', index=100)\n",
    "img_spot3 = D1_para.growth_dataset(growth='growth_2', metric='raw_image', spot='spot_3', index=100)\n",
    "\n",
    "imgs = [img_all, img_spot1, img_spot2, img_spot3]\n",
    "width_ratios = [img.shape[1]/img.shape[0] for img in imgs]\n",
    "titles = ['All spots', 'Spot 1', 'Spot 2', 'Spot 3']\n",
    "fig = plt.figure(figsize=(6.5, 1))\n",
    "gs = gridspec.GridSpec(nrows=1, ncols=4, width_ratios=width_ratios, wspace=0.1)\n",
    "axes = [fig.add_subplot(gs[i]) for i in range(4)]\n",
    "for i, ax in enumerate(axes):\n",
    "    if i == 3:\n",
    "        imagemap(ax, imgs[i], colorbars=True, clim=(0,120), divider_=False)\n",
    "    else:\n",
    "        imagemap(ax, imgs[i], colorbars=False, clim=(0,120), divider_=False)\n",
    "    labelfigs(ax, None, string_add=titles[i], loc='ct', size=10)\n",
    "plt.show()"
   ]
  },
  {
   "cell_type": "code",
   "execution_count": null,
   "id": "6",
   "metadata": {},
   "outputs": [],
   "source": [
    "D1_para.viz_RHEED_parameter(growth='growth_2', spot='spot_1', index=10)\n",
    "D1_para.viz_RHEED_parameter(growth='growth_2', spot='spot_2', index=10)\n",
    "D1_para.viz_RHEED_parameter(growth='growth_2', spot='spot_3', index=10)"
   ]
  },
  {
   "attachments": {},
   "cell_type": "markdown",
   "id": "7",
   "metadata": {},
   "source": [
    "## 2. Examples of Fitted RHEED Intenstity Curve"
   ]
  },
  {
   "cell_type": "code",
   "execution_count": null,
   "id": "8",
   "metadata": {},
   "outputs": [],
   "source": [
    "spot = 'spot_2'\n",
    "metric = 'img_sum'\n",
    "camera_freq = 500\n",
    "fit_settings = {'savgol_window_order': (15, 3), 'pca_component': 10, 'I_diff': 15000, 'unify':False, \n",
    "                'bounds':[0.001, 1], 'p_init':[0.1, 0.4, 0.1]}"
   ]
  },
  {
   "cell_type": "code",
   "execution_count": null,
   "id": "9",
   "metadata": {},
   "outputs": [],
   "source": [
    "x_all, y_all = D1_para.load_multiple_curves(['growth_1'], spot, metric, x_start=0, interval=0)\n",
    "\n",
    "parameters_all, x_coor_all, info = analyze_curves(D1_para, {'growth_1': 1}, spot, metric, interval=0, fit_settings=fit_settings)\n",
    "[xs_all, ys_all, ys_fit_all, ys_nor_all, ys_nor_fit_all, ys_nor_fit_failed_all, labels_all, losses_all] = info"
   ]
  },
  {
   "cell_type": "code",
   "execution_count": null,
   "id": "10",
   "metadata": {},
   "outputs": [],
   "source": [
    "path = 'D:/STO_STO-Data/RHEED/STO_STO_Berkeley/test6_gaussian_fit_parameters_all-04232023.h5'\n",
    "D1_para = RHEED_parameter_dataset(path, camera_freq=500, sample_name='treated_213nm')\n",
    "decay_curve_examples(D1_para, 'spot_2', 'img_sum', fit_settings)\n",
    "printing.savefig(fig, 'treated_81nm-curve_examples')"
   ]
  },
  {
   "cell_type": "code",
   "execution_count": null,
   "id": "11",
   "metadata": {},
   "outputs": [],
   "source": [
    "path = 'D:/STO_STO-Data/RHEED/STO_STO_Berkeley/test6_gaussian_fit_parameters_all-04232023.h5'\n",
    "D1_para = RHEED_parameter_dataset(path, camera_freq=500, sample_name='treated_213nm')\n",
    "decay_curve_examples(D1_para, 'spot_2', 'img_sum', fit_settings)\n",
    "printing.savefig(fig, 'treated_81nm-curve_examples')"
   ]
  },
  {
   "attachments": {},
   "cell_type": "markdown",
   "id": "12",
   "metadata": {},
   "source": [
    "## 3. Predict the growth mechanism"
   ]
  },
  {
   "attachments": {},
   "cell_type": "markdown",
   "id": "13",
   "metadata": {},
   "source": [
    "### 3.1 Sample 1 - treated_213nm"
   ]
  },
  {
   "cell_type": "code",
   "execution_count": null,
   "id": "14",
   "metadata": {},
   "outputs": [],
   "source": [
    "path = 'D:/STO_STO-Data/RHEED/STO_STO_Berkeley/test6_gaussian_fit_parameters_all-04232023.h5'\n",
    "D1_para = RHEED_parameter_dataset(path, camera_freq=500, sample_name='treated_213nm')\n",
    "\n",
    "growth_list = ['growth_1', 'growth_2', 'growth_3', 'growth_4', 'growth_5', 'growth_6', \n",
    "               'growth_7', 'growth_8', 'growth_9', 'growth_10', 'growth_11', 'growth_12']\n",
    "D1_para.viz_RHEED_parameter_trend(growth_list, spot='spot_2', metric_list=['img_sum'], head_tail=(100,300), interval=200)"
   ]
  },
  {
   "cell_type": "code",
   "execution_count": null,
   "id": "15",
   "metadata": {},
   "outputs": [],
   "source": [
    "D1_para.viz_RHEED_parameter_trend(['growth_1'], spot='spot_2', metric_list=['img_sum'])"
   ]
  },
  {
   "cell_type": "code",
   "execution_count": null,
   "id": "16",
   "metadata": {},
   "outputs": [],
   "source": [
    "growth_dict = {'growth_1':1, 'growth_2':1, 'growth_3':1, 'growth_4':3, 'growth_5':3}\n",
    "x_all, y_all = D1_para.load_multiple_curves(growth_dict.keys(), spot, metric, x_start=0, interval=0)\n",
    "\n",
    "parameters_all, x_coor_all, info = analyze_curves(D1_para, growth_dict, spot, metric, interval=0, fit_settings=fit_settings)\n",
    "[xs_all, ys_all, ys_fit_all, ys_nor_all, ys_nor_fit_all, ys_nor_fit_failed_all, labels_all, losses_all] = info\n",
    "x_y1 = x_coor_all[losses_all[:,0]>losses_all[:,1]]\n",
    "x_y2 = x_coor_all[losses_all[:,0]<losses_all[:,1]]\n",
    "color_array = Viz.two_color_array(x_coor_all, x_y1, x_y2, bgc1, bgc2)\n",
    "color_array = np.concatenate([np.expand_dims(x_coor_all, 1), color_array], axis=1)\n",
    "loss_diff = np.abs(losses_all[:,0] - losses_all[:,1])\n",
    "\n",
    "fig, ax = plt.subplots(1, 1, figsize=(6, 2))\n",
    "Viz.plot_loss_difference(ax, x_all, y_all, x_coor_all, loss_diff, color_array, color_2=seq_colors[0])\n",
    "# Viz.plot_loss_difference(ax, x_all, y_all, x_coor_all, loss_diff, color_array, color_2=seq_colors[0])"
   ]
  },
  {
   "attachments": {},
   "cell_type": "markdown",
   "id": "17",
   "metadata": {},
   "source": [
    "We used two exponential decay functions ( y=1-exp(t/tau) and y=exp(-t/tau) ) to fit with RHEED intensity curves. By calculate the Mean Squared Error (MSE) loss of fitted data and raw data, we can determine which function fits better by use the fitting function with a lower MSE loss. Here we plotted two diagrams: 1. RHEED intensity curve with two colors as the background to indicate the selected fitted functions (left y axis); 2. MSE loss difference between raw data and fitted data (right y axis)."
   ]
  },
  {
   "attachments": {},
   "cell_type": "markdown",
   "id": "18",
   "metadata": {},
   "source": [
    "#### 3.1.1 Check Prediction Outliers"
   ]
  },
  {
   "attachments": {},
   "cell_type": "markdown",
   "id": "19",
   "metadata": {},
   "source": [
    "If the difference between MSE losses of two fitting functions with raw data is small, it's hard to determine fitting function based on the loss. Therefore, we need to review these examples to exclude the incorrect prediction. Here are curves with a small loss difference."
   ]
  },
  {
   "cell_type": "code",
   "execution_count": null,
   "id": "20",
   "metadata": {},
   "outputs": [],
   "source": [
    " # get the most confused 50 curve\n",
    "confused_index = np.argsort(loss_diff)[:50]\n",
    "# confused_index = np.sort(confused_index)\n",
    "print(\"Indices:\", confused_index)\n",
    "\n",
    "xs_confused = xs_all[confused_index]\n",
    "ys_nor_confused = ys_nor_all[confused_index]\n",
    "ys_nor_fit_confused = ys_nor_fit_all[confused_index]\n",
    "ys_nor_fit_failed_confused = ys_nor_fit_failed_all[confused_index]\n",
    "# labels_confused = list(str(i)+'-'+labels_all[i] for i in confused_index)\n",
    "Viz.plot_fit_details(xs_confused, ys_nor_confused, ys_nor_fit_confused, ys_nor_fit_failed_confused, confused_index)"
   ]
  },
  {
   "attachments": {},
   "cell_type": "markdown",
   "id": "21",
   "metadata": {},
   "source": [
    "Based on the observation, there are three situations for these curves with small loss difference:\n",
    "1. Correct prediction: acceptable. Indexes: 5, 6, 7, 8, 9, 11, 33, 34, 35, 36, 37.\n",
    "2. Incorrect predictions: exclude these predictions in final results. There is no curve in this situation.\n",
    "3. Flat curves when the sample transits from one terminated surface to another kind, so we should exclude these predictions as well.\n",
    "We will remove the predictions that are not in situation 1."
   ]
  },
  {
   "attachments": {},
   "cell_type": "markdown",
   "id": "22",
   "metadata": {},
   "source": [
    "#### 3.1.2 Remove Incorrect Predictions"
   ]
  },
  {
   "cell_type": "code",
   "execution_count": null,
   "id": "23",
   "metadata": {},
   "outputs": [],
   "source": [
    "# replace the wrong prediction with result from previous ablation\n",
    "wrong_prediction_list = confused_index\n",
    "wrong_prediction_list = np.delete(wrong_prediction_list, [5, 6, 7, 8, 9, 11, 33, 34, 35, 36, 37])\n",
    "# wrong_prediction_list = [8, 37, 36, 32, 68, 38, 34, 7, 35, 72, 6, 5]\n",
    "for i in wrong_prediction_list:\n",
    "    color_array[i][1:] = color_array[i-1][1:]\n",
    "    \n",
    "fig, ax = plt.subplots(1, 1, figsize=(6, 2), layout='compressed')\n",
    "Viz.draw_background_colors(ax, color_array)\n",
    "ax.scatter(x_all, y_all, color='k', s=1)\n",
    "Viz.set_labels(ax, xlabel='Time (s)', ylabel='Intensity (a.u.)')\n",
    "plt.show()"
   ]
  },
  {
   "attachments": {},
   "cell_type": "markdown",
   "id": "24",
   "metadata": {},
   "source": [
    "#### 3.1.3 Label the Condition Change"
   ]
  },
  {
   "cell_type": "code",
   "execution_count": null,
   "id": "25",
   "metadata": {},
   "outputs": [],
   "source": [
    "boxes = [(25.5, 28), (51, 53), (73.5, 75.5), (99, 100)]\n",
    "fig, ax = plt.subplots(1, 1, figsize=(8, 2.5), layout='compressed')\n",
    "Viz.draw_background_colors(ax, color_array)\n",
    "Viz.draw_boxes(ax, boxes, color_gray)\n",
    "ax.scatter(x_all, y_all, color='k', s=1)\n",
    "Viz.set_labels(ax, xlabel='Time (s)', ylabel='Intensity (a.u.)')\n",
    "plt.show()"
   ]
  },
  {
   "attachments": {},
   "cell_type": "markdown",
   "id": "26",
   "metadata": {},
   "source": [
    "#### 3.1.4 Clean plot"
   ]
  },
  {
   "cell_type": "code",
   "execution_count": null,
   "id": "27",
   "metadata": {},
   "outputs": [],
   "source": [
    "for (box_start, box_end) in boxes:\n",
    "    for i, x in enumerate(color_array[:,0]):\n",
    "        if x>box_start and x<box_end:\n",
    "            color_array[i][1:] = color_array[i-1][1:]\n",
    "\n",
    "fig, ax = plt.subplots(1, 1, figsize=(8, 2.5), layout='compressed')\n",
    "Viz.draw_background_colors(ax, color_array)\n",
    "ax.scatter(x_all, y_all, color='k', s=1)\n",
    "Viz.set_labels(ax, xlabel='Time (s)', ylabel='Intensity (a.u.)')\n",
    "plt.show()"
   ]
  },
  {
   "cell_type": "code",
   "execution_count": null,
   "id": "28",
   "metadata": {},
   "outputs": [],
   "source": [
    "np.save('../Data/Plume_results/treated_213nm-x_all.npy', np.copy(x_all))\n",
    "np.save('../Data/Plume_results/treated_213nm-y_all.npy', np.copy(y_all))\n",
    "np.save('../Data/Plume_results/treated_213nm-bg_growth.npy', np.copy(color_array))\n",
    "np.save('../Data/Plume_results/treated_213nm-boxes.npy', np.copy(boxes))\n",
    "np.save('../Data/Plume_results/treated_213nm-losses_all.npy', np.copy(losses_all))"
   ]
  },
  {
   "attachments": {},
   "cell_type": "markdown",
   "id": "29",
   "metadata": {},
   "source": [
    "### 3.2 Sample 2 - treated_81nm"
   ]
  },
  {
   "cell_type": "code",
   "execution_count": null,
   "id": "30",
   "metadata": {},
   "outputs": [],
   "source": [
    "path = 'D:/STO_STO-Data/RHEED/STO_STO_Berkeley/test7_gaussian_fit_parameters_all-04232023.h5'\n",
    "D2_para = RHEED_parameter_dataset(path, camera_freq=500, sample_name='treated_81nm')\n",
    "\n",
    "growth_list = ['growth_1', 'growth_2', 'growth_3', 'growth_4', 'growth_5', 'growth_6', \n",
    "               'growth_7', 'growth_8', 'growth_9', 'growth_10', 'growth_11', 'growth_12']\n",
    "D2_para.viz_RHEED_parameter_trend(growth_list, spot='spot_2', metric_list=['img_sum'], head_tail=(100,300), interval=200)"
   ]
  },
  {
   "cell_type": "code",
   "execution_count": null,
   "id": "31",
   "metadata": {},
   "outputs": [],
   "source": [
    "D2_para.viz_RHEED_parameter_trend(['growth_1'], spot='spot_2', metric_list=['img_sum'], figsize=(6,3))"
   ]
  },
  {
   "cell_type": "code",
   "execution_count": null,
   "id": "32",
   "metadata": {},
   "outputs": [],
   "source": [
    "growth_dict = {'growth_1':1, 'growth_2':1, 'growth_3':1, 'growth_4':3, 'growth_5':3}\n",
    "x_all, y_all = D2_para.load_multiple_curves(growth_dict.keys(), spot, metric, x_start=0, interval=0)\n",
    "\n",
    "parameters_all, x_coor_all, info = analyze_curves(D2_para, growth_dict, spot, metric, interval=0, fit_settings=fit_settings)\n",
    "[xs_all, ys_all, ys_fit_all, ys_nor_all, ys_nor_fit_all, ys_nor_fit_failed_all, labels_all, losses_all] = info\n",
    "x_y1 = x_coor_all[losses_all[:,0]>losses_all[:,1]]\n",
    "x_y2 = x_coor_all[losses_all[:,0]<losses_all[:,1]]\n",
    "color_array = Viz.two_color_array(x_coor_all, x_y1, x_y2, bgc1, bgc2, transparency=0.5)\n",
    "color_array = np.concatenate([np.expand_dims(x_coor_all, 1), color_array], axis=1)\n",
    "loss_diff = np.abs(losses_all[:,0] - losses_all[:,1])\n",
    "\n",
    "fig, ax = plt.subplots(1, 1, figsize=(8, 2.5), layout='compressed')\n",
    "Viz.plot_loss_difference(ax, x_all, y_all, x_coor_all, loss_diff, color_array, color_2=seq_colors[0])"
   ]
  },
  {
   "attachments": {},
   "cell_type": "markdown",
   "id": "33",
   "metadata": {},
   "source": [
    "#### 3.2.1 Check Prediction Outliers"
   ]
  },
  {
   "cell_type": "code",
   "execution_count": null,
   "id": "34",
   "metadata": {},
   "outputs": [],
   "source": [
    "# get the most confused 50 curve\n",
    "confused_index = np.argsort(loss_diff)[:50]\n",
    "confused_index.sort()\n",
    "print(\"Indices:\", confused_index)\n",
    "\n",
    "xs_confused = xs_all[confused_index]\n",
    "ys_nor_confused = ys_nor_all[confused_index]\n",
    "ys_nor_fit_confused = ys_nor_fit_all[confused_index]\n",
    "ys_nor_fit_failed_confused = ys_nor_fit_failed_all[confused_index]\n",
    "labels_confused = list(str(i)+'-'+labels_all[i] for i in confused_index)\n",
    "\n",
    "Viz.plot_fit_details(xs_confused, ys_nor_confused, ys_nor_fit_confused, ys_nor_fit_failed_confused, confused_index)"
   ]
  },
  {
   "attachments": {},
   "cell_type": "markdown",
   "id": "35",
   "metadata": {},
   "source": [
    "1. Correct prediction: acceptable. Indexes: 1, 2, 3, 4, 7, 8, 9, 26, 27, 30, 31, 33, 35.\n",
    "2. Incorrect predictions: exclude these predictions in final results. There is no curve in this situation.\n",
    "3. Flat curves when the sample transits from one terminated surface to another kind, so we should exclude these predictions as well.\n",
    "We will remove the predictions that are not in situation 1."
   ]
  },
  {
   "attachments": {},
   "cell_type": "markdown",
   "id": "36",
   "metadata": {},
   "source": [
    "#### 3.2.2 Remove Incorrect Predictions"
   ]
  },
  {
   "cell_type": "code",
   "execution_count": null,
   "id": "37",
   "metadata": {},
   "outputs": [],
   "source": [
    "# replace the wrong prediction with results from previous ablation\n",
    "wrong_prediction_list = confused_index\n",
    "wrong_prediction_list = np.delete(wrong_prediction_list, [1, 2, 3, 4, 7, 8, 9, 26, 27, 30, 31, 33, 35])\n",
    "for i in wrong_prediction_list:\n",
    "    color_array[i][1:] = color_array[i-1][1:]\n",
    "    \n",
    "fig, ax = plt.subplots(1, 1, figsize=(8, 2.5), layout='compressed')\n",
    "Viz.draw_background_colors(ax, color_array)\n",
    "ax.scatter(x_all, y_all, color='k', s=1)\n",
    "Viz.set_labels(ax, xlabel='Time (s)', ylabel='Intensity (a.u.)')\n",
    "plt.show()"
   ]
  },
  {
   "attachments": {},
   "cell_type": "markdown",
   "id": "38",
   "metadata": {},
   "source": [
    "#### 3.2.3 Label the Condition Change"
   ]
  },
  {
   "cell_type": "code",
   "execution_count": null,
   "id": "39",
   "metadata": {},
   "outputs": [],
   "source": [
    "boxes = [(16, 18), (37, 39), (60, 62), (84, 86)]\n",
    "fig, ax = plt.subplots(1, 1, figsize=(8, 2.5), layout='compressed')\n",
    "Viz.draw_background_colors(ax, color_array)\n",
    "Viz.draw_boxes(ax, boxes, color_gray)\n",
    "ax.scatter(x_all, y_all, color='k', s=1)\n",
    "Viz.set_labels(ax, xlabel='Time (s)', ylabel='Intensity (a.u.)')\n",
    "plt.show()"
   ]
  },
  {
   "attachments": {},
   "cell_type": "markdown",
   "id": "40",
   "metadata": {},
   "source": [
    "#### 3.2.4 Clean plot"
   ]
  },
  {
   "cell_type": "code",
   "execution_count": null,
   "id": "41",
   "metadata": {},
   "outputs": [],
   "source": [
    "for (box_start, box_end) in boxes:\n",
    "    for i, x in enumerate(color_array[:,0]):\n",
    "        if x>box_start and x<box_end:\n",
    "            color_array[i][1:] = color_array[i-1][1:]\n",
    "fig, ax = plt.subplots(1, 1, figsize=(8, 2.5), layout='compressed')\n",
    "Viz.draw_background_colors(ax, color_array)\n",
    "ax.scatter(x_all, y_all, color='k', s=1)\n",
    "Viz.set_labels(ax, xlabel='Time (s)', ylabel='Intensity (a.u.)')\n",
    "plt.show()"
   ]
  },
  {
   "attachments": {},
   "cell_type": "markdown",
   "id": "42",
   "metadata": {},
   "source": [
    "#### Conclusion: \n",
    "The model can predict most of the \"decay flipping phenomenon\". However, it missed the one at around t=75s. We can see the decrease decay function feature is harder to obeserve and predict after a few unit cell have been grown."
   ]
  },
  {
   "attachments": {},
   "cell_type": "markdown",
   "id": "43",
   "metadata": {},
   "source": [
    "By observing the fitted examples, we can derive similar conclusion as the previous growth. Because in later growth, the reason of decay function y=exp(-t/tau) have lower MSE loss is mainly resulted from the general intensity change and noise instead of inherent decay drop phenomenon, we can assume the curve after growth_3 fit better with y=1-exp(-t/tau) decay function. "
   ]
  },
  {
   "cell_type": "code",
   "execution_count": null,
   "id": "44",
   "metadata": {},
   "outputs": [],
   "source": [
    "np.save('../Data/Plume_results/treated_81nm-x_all.npy', np.copy(x_all))\n",
    "np.save('../Data/Plume_results/treated_81nm-y_all.npy', np.copy(y_all))\n",
    "np.save('../Data/Plume_results/treated_81nm-bg_growth.npy', np.copy(color_array))\n",
    "np.save('../Data/Plume_results/treated_81nm-boxes.npy', np.copy(boxes))\n",
    "np.save('../Data/Plume_results/treated_81nm-losses_all.npy', np.copy(losses_all))"
   ]
  },
  {
   "attachments": {},
   "cell_type": "markdown",
   "id": "45",
   "metadata": {},
   "source": [
    "### 3.3 Sample 3 - untreated_162nm"
   ]
  },
  {
   "cell_type": "code",
   "execution_count": null,
   "id": "46",
   "metadata": {},
   "outputs": [],
   "source": [
    "path = 'D:/STO_STO-Data/RHEED/STO_STO_Berkeley/test9_gaussian_fit_parameters_all-04232023.h5'\n",
    "D3_para = RHEED_parameter_dataset(path, camera_freq=500, sample_name='untreated_162nm')\n",
    "\n",
    "growth_list = ['growth_1', 'growth_2', 'growth_3', 'growth_4', 'growth_5', 'growth_6', \n",
    "               'growth_7', 'growth_8', 'growth_9', 'growth_10', 'growth_11', 'growth_12',\n",
    "               'growth_13', 'growth_14', 'growth_15', 'growth_16', 'growth_17', 'growth_18']\n",
    "D3_para.viz_RHEED_parameter_trend(growth_list, spot='spot_2', metric_list=['img_sum'], head_tail=(100,300), interval=1000)"
   ]
  },
  {
   "cell_type": "code",
   "execution_count": null,
   "id": "47",
   "metadata": {},
   "outputs": [],
   "source": [
    "D3_para.viz_RHEED_parameter_trend(['growth_1'], spot='spot_2', metric_list=['img_sum'], figsize=(6,3))"
   ]
  },
  {
   "cell_type": "code",
   "execution_count": null,
   "id": "48",
   "metadata": {},
   "outputs": [],
   "source": [
    "growth_dict = {'growth_1':1, 'growth_2':1, 'growth_3':1, 'growth_4':1, 'growth_5':1, 'growth_6':1, 'growth_7':1, 'growth_8':1}\n",
    "x_all, y_all = D3_para.load_multiple_curves(growth_dict.keys(), spot, metric, x_start=0, interval=0)\n",
    "\n",
    "parameters_all, x_coor_all, info = analyze_curves(D3_para, growth_dict, spot, metric, interval=0, fit_settings=fit_settings)\n",
    "[xs_all, ys_all, ys_fit_all, ys_nor_all, ys_nor_fit_all, ys_nor_fit_failed_all, labels_all, losses_all] = info\n",
    "x_y1 = x_coor_all[losses_all[:,0]>losses_all[:,1]]\n",
    "x_y2 = x_coor_all[losses_all[:,0]<losses_all[:,1]]\n",
    "color_array = Viz.two_color_array(x_coor_all, x_y1, x_y2, bgc1, bgc2, transparency=0.5)\n",
    "color_array = np.concatenate([np.expand_dims(x_coor_all, 1), color_array], axis=1)\n",
    "loss_diff = np.abs(losses_all[:,0] - losses_all[:,1])\n",
    "\n",
    "fig, ax = plt.subplots(1, 1, figsize=(8, 2.5), layout='compressed')\n",
    "Viz.plot_loss_difference(ax, x_all, y_all, x_coor_all, loss_diff, color_array, color_2=seq_colors[0])"
   ]
  },
  {
   "attachments": {},
   "cell_type": "markdown",
   "id": "49",
   "metadata": {},
   "source": [
    "#### 3.3.1 Check Prediction Outliers"
   ]
  },
  {
   "cell_type": "code",
   "execution_count": null,
   "id": "50",
   "metadata": {},
   "outputs": [],
   "source": [
    "# get the most confused 50 curve\n",
    "confused_index = np.argsort(loss_diff)[:50]\n",
    "confused_index = np.sort(confused_index)\n",
    "print(\"Indices:\", confused_index)\n",
    "\n",
    "xs_confused = xs_all[confused_index]\n",
    "ys_nor_confused = ys_nor_all[confused_index]\n",
    "ys_nor_fit_confused = ys_nor_fit_all[confused_index]\n",
    "ys_nor_fit_failed_confused = ys_nor_fit_failed_all[confused_index]\n",
    "Viz.plot_fit_details(xs_confused, ys_nor_confused, ys_nor_fit_confused, ys_nor_fit_failed_confused, confused_index)"
   ]
  },
  {
   "attachments": {},
   "cell_type": "markdown",
   "id": "51",
   "metadata": {},
   "source": [
    "1. Correct prediction: acceptable. Indexes: 1, 2, 3, 4, 7, 8, 9, 26, 27, 30, 31, 33, 35.\n",
    "2. Incorrect predictions: exclude these predictions in final results. There is no curve in this situation.\n",
    "3. Flat curves when the sample transits from one terminated surface to another kind, so we should exclude these predictions as well.\n",
    "We will remove the predictions that are not in situation 1."
   ]
  },
  {
   "attachments": {},
   "cell_type": "markdown",
   "id": "52",
   "metadata": {},
   "source": [
    "#### 3.3.2 Remove Incorrect Predictions"
   ]
  },
  {
   "cell_type": "code",
   "execution_count": null,
   "id": "53",
   "metadata": {},
   "outputs": [],
   "source": [
    "# replace the wrong prediction with result from previous ablation\n",
    "wrong_prediction_list = confused_index\n",
    "wrong_prediction_list = np.delete(wrong_prediction_list, [6, 7, 8, 9, 12, 17, 23, 24])\n",
    "for i in wrong_prediction_list:\n",
    "    color_array[i][1:] = color_array[i-1][1:]\n",
    "    \n",
    "fig, ax = plt.subplots(1, 1, figsize=(8, 2.5), layout='compressed')\n",
    "Viz.draw_background_colors(ax, color_array)\n",
    "ax.scatter(x_all, y_all, color='k', s=1)\n",
    "Viz.set_labels(ax, xlabel='Time (s)', ylabel='Intensity (a.u.)')\n",
    "plt.show()"
   ]
  },
  {
   "attachments": {},
   "cell_type": "markdown",
   "id": "54",
   "metadata": {},
   "source": [
    "We notice the predictions around index=45 are not consistent with our assumption, so we review some curves here:"
   ]
  },
  {
   "cell_type": "code",
   "execution_count": null,
   "id": "55",
   "metadata": {},
   "outputs": [],
   "source": [
    "wrong_prediction_list = [43, 44, 45, 46, 47, 48]\n",
    "xs_confused = xs_all[wrong_prediction_list]\n",
    "ys_nor_confused = ys_nor_all[wrong_prediction_list]\n",
    "ys_nor_fit_confused = ys_nor_fit_all[wrong_prediction_list]\n",
    "ys_nor_fit_failed_confused = ys_nor_fit_failed_all[wrong_prediction_list]\n",
    "Viz.plot_fit_details(xs_confused, ys_nor_confused, ys_nor_fit_confused, ys_nor_fit_failed_confused, wrong_prediction_list)"
   ]
  },
  {
   "cell_type": "code",
   "execution_count": null,
   "id": "56",
   "metadata": {},
   "outputs": [],
   "source": [
    "for i in wrong_prediction_list:\n",
    "    print(i, labels_all[i])"
   ]
  },
  {
   "attachments": {},
   "cell_type": "markdown",
   "id": "57",
   "metadata": {},
   "source": [
    "Remove index 44, 45, 46 because they are not a complete decay curve:"
   ]
  },
  {
   "cell_type": "code",
   "execution_count": null,
   "id": "58",
   "metadata": {},
   "outputs": [],
   "source": [
    "# replace the wrong prediction with result from previous ablation\n",
    "wrong_prediction_list = [44, 45, 46]\n",
    "for i in wrong_prediction_list:\n",
    "    color_array[i][1:] = color_array[i-1][1:]\n",
    "    \n",
    "fig, ax = plt.subplots(1, 1, figsize=(8, 2.5), layout='compressed')\n",
    "Viz.draw_background_colors(ax, color_array)\n",
    "ax.scatter(x_all, y_all, color='k', s=1)\n",
    "Viz.set_labels(ax, xlabel='Time (s)', ylabel='Intensity (a.u.)')\n",
    "plt.show()"
   ]
  },
  {
   "attachments": {},
   "cell_type": "markdown",
   "id": "59",
   "metadata": {},
   "source": [
    "#### 3.3.3 Label the Condition Change"
   ]
  },
  {
   "cell_type": "code",
   "execution_count": null,
   "id": "60",
   "metadata": {},
   "outputs": [],
   "source": [
    "boxes = [(26, 28), (46, 48), (67, 70), (93, 96), (119, 121), (144, 147), (169, 172)]\n",
    "fig, ax = plt.subplots(1, 1, figsize=(8, 2.5), layout='compressed')\n",
    "Viz.draw_background_colors(ax, color_array)\n",
    "Viz.draw_boxes(ax, boxes, color_gray)\n",
    "ax.scatter(x_all, y_all, color='k', s=1)\n",
    "Viz.set_labels(ax, xlabel='Time (s)', ylabel='Intensity (a.u.)')\n",
    "plt.show()"
   ]
  },
  {
   "attachments": {},
   "cell_type": "markdown",
   "id": "61",
   "metadata": {},
   "source": [
    "#### 3.3.4 Clean plot"
   ]
  },
  {
   "cell_type": "code",
   "execution_count": null,
   "id": "62",
   "metadata": {},
   "outputs": [],
   "source": [
    "for (box_start, box_end) in boxes:\n",
    "    for i, x in enumerate(color_array[:,0]):\n",
    "        if x>box_start and x<box_end:\n",
    "            color_array[i][1:] = color_array[i-1][1:]\n",
    "            \n",
    "fig, ax = plt.subplots(1, 1, figsize=(8, 2.5), layout='compressed')\n",
    "Viz.draw_background_colors(ax, color_array)\n",
    "ax.scatter(x_all, y_all, color='k', s=1)\n",
    "Viz.set_labels(ax, xlabel='Time (s)', ylabel='Intensity (a.u.)')\n",
    "plt.show()"
   ]
  },
  {
   "cell_type": "code",
   "execution_count": null,
   "id": "63",
   "metadata": {},
   "outputs": [],
   "source": [
    "np.save('../Data/Plume_results/untreated_162nm-x_all.npy', np.copy(x_all))\n",
    "np.save('../Data/Plume_results/untreated_162nm-y_all.npy', np.copy(y_all))\n",
    "np.save('../Data/Plume_results/untreated_162nm-bg_growth.npy', np.copy(color_array))\n",
    "np.save('../Data/Plume_results/untreated_162nm-boxes.npy', np.copy(boxes))\n",
    "np.save('../Data/Plume_results/untreated_162nm-losses_all.npy', np.copy(losses_all))"
   ]
  },
  {
   "attachments": {},
   "cell_type": "markdown",
   "id": "64",
   "metadata": {},
   "source": [
    "All of the examples classified to y=exp(-t/tau) decay function are resulted from noise instead of from actual decay behavior. Therefore, we can conclude that the untreated does not shows \"decay flipping phenomenon\". "
   ]
  },
  {
   "attachments": {},
   "cell_type": "markdown",
   "id": "65",
   "metadata": {},
   "source": [
    "## 4. Summary - Comparison between Three Samples"
   ]
  },
  {
   "cell_type": "code",
   "execution_count": null,
   "id": "66",
   "metadata": {},
   "outputs": [],
   "source": [
    "# load data if needed\n",
    "x_all_sample1, y_all_sample1 = np.load('../Data/Plume_results/treated_213nm-x_all.npy'), np.load('../Data/Plume_results/treated_213nm-y_all.npy')\n",
    "color_array_sample1 = np.load('../Data/Plume_results/treated_213nm-bg_growth.npy')\n",
    "boxes_sample1 = np.load('../Data/Plume_results/treated_213nm-boxes.npy')\n",
    "losses_all_sample1 = np.load('../Data/Plume_results/treated_213nm-losses_all.npy')\n",
    "loss_diff_sample1 = np.abs(losses_all_sample1[:,0] - losses_all_sample1[:,1])\n",
    "\n",
    "x_all_sample2, y_all_sample2 = np.load('../Data/Plume_results/treated_81nm-x_all.npy'), np.load('../Data/Plume_results/treated_81nm-y_all.npy')\n",
    "color_array_sample2 = np.load('../Data/Plume_results/treated_81nm-bg_growth.npy')\n",
    "boxes_sample2 = np.load('../Data/Plume_results/treated_81nm-boxes.npy')\n",
    "losses_all_sample2 = np.load('../Data/Plume_results/treated_81nm-losses_all.npy')\n",
    "loss_diff_sample2 = np.abs(losses_all_sample2[:,0] - losses_all_sample2[:,1])\n",
    "\n",
    "x_all_sample3, y_all_sample3 = np.load('../Data/Plume_results/untreated_162nm-x_all.npy'), np.load('../Data/Plume_results/untreated_162nm-y_all.npy')\n",
    "color_array_sample3 = np.load('../Data/Plume_results/untreated_162nm-bg_growth.npy')\n",
    "boxes_sample3 = np.load('../Data/Plume_results/untreated_162nm-boxes.npy')\n",
    "losses_all_sample3 = np.load('../Data/Plume_results/untreated_162nm-losses_all.npy')\n",
    "loss_diff_sample3 = np.abs(losses_all_sample3[:,0] - losses_all_sample3[:,1])"
   ]
  },
  {
   "attachments": {},
   "cell_type": "markdown",
   "id": "67",
   "metadata": {},
   "source": [
    "### 4.1 RHEED Intensity with Loss Difference"
   ]
  },
  {
   "cell_type": "code",
   "execution_count": null,
   "id": "68",
   "metadata": {},
   "outputs": [],
   "source": [
    "fig, axes = layout_fig(3, 1, figsize=(8, 8))\n",
    "Viz.plot_loss_difference(axes[0], x_all_sample1, y_all_sample1, color_array_sample1[:,0], loss_diff_sample1, \n",
    "                         color_array_sample1, color_2=seq_colors[0], title='treated_213nm')\n",
    "labelfigs(axes[0], number=0, loc='tr', style='b', size=12, inset_fraction=(0.08, 0.03))\n",
    "Viz.plot_loss_difference(axes[1], x_all_sample2, y_all_sample2, color_array_sample2[:,0], loss_diff_sample2, \n",
    "                         color_array_sample2, color_2=seq_colors[0], title='treated_81nm')\n",
    "labelfigs(axes[1], number=1, loc='tr', style='b', size=12, inset_fraction=(0.08, 0.03))\n",
    "Viz.plot_loss_difference(axes[2], x_all_sample3, y_all_sample3, color_array_sample3[:,0], loss_diff_sample3, \n",
    "                         color_array_sample3, color_2=seq_colors[0], title='untreated_162nm')\n",
    "labelfigs(axes[2], number=2, loc='tr', style='b', size=12, inset_fraction=(0.08, 0.03))\n",
    "printing_plot.savefig(fig, 'loss_difference', dpi=300)\n",
    "plt.show()"
   ]
  },
  {
   "attachments": {},
   "cell_type": "markdown",
   "id": "69",
   "metadata": {},
   "source": [
    "Temporal evolution of RHEED intensity extracted from spot 2 region. RHEED intensity of deposition of a) treated_213nm, b) treated_81nm, and c) untreated_162nm, respectively. The medium and light background represents different fitting functions used to fit with the decay curves. Typical decay curves are provided on the corresponding background color. And the blue scatter plot represents the loss difference between predictions using two exponential curve functions and raw RHEED intensity data. Higher loss difference means the model predict with less confidence. "
   ]
  },
  {
   "attachments": {},
   "cell_type": "markdown",
   "id": "70",
   "metadata": {},
   "source": [
    "### 4.2 Plot with gray box covering the growth condition changing region"
   ]
  },
  {
   "cell_type": "code",
   "execution_count": null,
   "id": "71",
   "metadata": {},
   "outputs": [],
   "source": [
    "y_all_sample1 = y_all_sample1[x_all_sample1<110]\n",
    "x_all_sample1 = x_all_sample1[x_all_sample1<110]\n",
    "\n",
    "color_array_sample1 = color_array_sample1[color_array_sample1[:, 0]<110]\n",
    "boxes_sample1 = boxes_sample1[boxes_sample1[:,0]<110]\n",
    "\n",
    "y_all_sample2 = y_all_sample2[x_all_sample2<110]\n",
    "x_all_sample2 = x_all_sample2[x_all_sample2<110]\n",
    "\n",
    "color_array_sample2 = color_array_sample2[color_array_sample2[:, 0]<110]\n",
    "boxes_sample2 = boxes_sample2[boxes_sample2[:,0]<110]\n",
    "\n",
    "y_all_sample3 = y_all_sample3[x_all_sample3<110]\n",
    "x_all_sample3 = x_all_sample3[x_all_sample3<110]\n",
    "\n",
    "color_array_sample3 = color_array_sample3[color_array_sample3[:, 0]<110]\n",
    "boxes_sample3 = boxes_sample3[boxes_sample3[:,0]<110]\n",
    "\n",
    "fig, ax = layout_fig(1, 1, figsize=(8, 2.6))\n",
    "Viz.draw_background_colors(ax, color_array_sample1)\n",
    "Viz.draw_boxes(ax, boxes_sample1, color_gray)\n",
    "\n",
    "# Normalize the data\n",
    "y_all_sample1 = NormalizeData(y_all_sample1, lb=np.min(y_all_sample1), ub=np.max(y_all_sample1))\n",
    "\n",
    "ax.scatter(x_all_sample1, y_all_sample1, color='k', s=1)\n",
    "Viz.set_labels(ax, xlabel='Time (s)', ylabel='Intensity (a.u.)', ylim=(-0.1, 1.1), yaxis_style='sci')\n",
    "labelfigs(ax, number=0, loc='tr', style='b', size=18, inset_fraction=(0.08, 0.03))\n",
    "printing_plot.savefig(fig, 'fitting_results-gray_boxes-a', dpi=600, transparent=True)\n",
    "plt.show()\n",
    "\n",
    "fig, ax = layout_fig(1, 1, figsize=(8, 2.6))\n",
    "Viz.draw_background_colors(ax, color_array_sample2)\n",
    "Viz.draw_boxes(ax, boxes_sample2, color_gray)\n",
    "\n",
    "# Normalize the data\n",
    "y_all_sample2 = NormalizeData(y_all_sample2, lb=np.min(y_all_sample2), ub=np.max(y_all_sample2))\n",
    "\n",
    "ax.scatter(x_all_sample2, y_all_sample2, color='k', s=1)\n",
    "Viz.set_labels(ax, xlabel='Time (s)', ylabel='Intensity (a.u.)', ylim=(-0.1, 1.1), yaxis_style='sci')\n",
    "labelfigs(ax, number=1, loc='tr', style='b', size=18, inset_fraction=(0.08, 0.03))\n",
    "printing_plot.savefig(fig, 'fitting_results-gray_boxes-b', dpi=600, transparent=True)\n",
    "plt.show()\n",
    "\n",
    "fig, ax = layout_fig(1, 1, figsize=(8, 2.6))\n",
    "Viz.draw_background_colors(ax, color_array_sample3)\n",
    "Viz.draw_boxes(ax, boxes_sample3, color_gray)\n",
    "\n",
    "# Normalize the data \n",
    "y_all_sample3 = NormalizeData(y_all_sample3, lb=np.min(y_all_sample3), ub=np.max(y_all_sample3))\n",
    "\n",
    "ax.scatter(x_all_sample3, y_all_sample3, color='k', s=1)\n",
    "Viz.set_labels(ax, xlabel='Time (s)', ylabel='Intensity (a.u.)', ylim=(-0.1, 1.1), yaxis_style='sci')\n",
    "labelfigs(ax, number=2, loc='tr', style='b', size=18, inset_fraction=(0.08, 0.03))\n",
    "printing_plot.savefig(fig, 'fitting_results-gray_boxes-c', dpi=600, transparent=True)\n",
    "plt.show()"
   ]
  },
  {
   "attachments": {},
   "cell_type": "markdown",
   "id": "72",
   "metadata": {},
   "source": [
    "Temporal evolution of RHEED intensity extracted from spot 2 region. RHEED intensity of deposition of a) treated_213nm, b) treated_81nm, and c) untreated_162nm, respectively. The gray background indicates the changing growth condition, while the medium and light background represents different fitting functions used to fit with the decay curves. Typical decay curves are provided on the corresponding background color. "
   ]
  },
  {
   "attachments": {},
   "cell_type": "markdown",
   "id": "73",
   "metadata": {},
   "source": [
    "### 4.2 Clean version plot "
   ]
  },
  {
   "cell_type": "code",
   "execution_count": null,
   "id": "74",
   "metadata": {},
   "outputs": [],
   "source": [
    "fig, axes = layout_fig(3, 1, figsize=(8, 8))\n",
    "Viz.draw_background_colors(axes[0], color_array_sample1)\n",
    "\n",
    "axes[0].scatter(x_all_sample1, y_all_sample1, color='k', s=1)\n",
    "Viz.set_labels(axes[0], xlabel='Time (s)', ylabel='Intensity (a.u.)', title='treated_213nm')\n",
    "labelfigs(axes[0], number=0, loc='tr', style='b', size=12, inset_fraction=(0.08, 0.03))\n",
    "\n",
    "Viz.draw_background_colors(axes[1], color_array_sample2)\n",
    "axes[1].scatter(x_all_sample2, y_all_sample2, color='k', s=1)\n",
    "Viz.set_labels(axes[1], xlabel='Time (s)', ylabel='Intensity (a.u.)', title='treated_81nm')\n",
    "labelfigs(axes[1], number=1, loc='tr', style='b', size=12, inset_fraction=(0.08, 0.03))\n",
    "\n",
    "Viz.draw_background_colors(axes[2], color_array_sample3)\n",
    "axes[2].scatter(x_all_sample3, y_all_sample3, color='k', s=1)\n",
    "Viz.set_labels(axes[2], xlabel='Time (s)', ylabel='Intensity (a.u.)', title='untreated_162nm')\n",
    "labelfigs(axes[2], number=2, loc='tr', style='b', size=12, inset_fraction=(0.08, 0.03))\n",
    "\n",
    "# printing_plot.savefig(fig, 'fitting_results_clear', dpi=300)\n",
    "plt.show()"
   ]
  },
  {
   "attachments": {},
   "cell_type": "markdown",
   "id": "75",
   "metadata": {},
   "source": [
    "Temporal evolution of RHEED intensity extracted from spot 2 region. RHEED intensity of deposition of a) treated_213nm, b) treated_81nm, and c) untreated_162nm, respectively. The medium and light background represents different fitting functions used to fit with the decay curves. Typical decay curves are provided on the corresponding background color. "
   ]
  },
  {
   "cell_type": "code",
   "execution_count": null,
   "id": "76",
   "metadata": {},
   "outputs": [],
   "source": []
  },
  {
   "cell_type": "markdown",
   "id": "77",
   "metadata": {},
   "source": [
    "### 4.3 Align the time for better visualization of growth rate"
   ]
  },
  {
   "cell_type": "code",
   "execution_count": null,
   "id": "78",
   "metadata": {},
   "outputs": [],
   "source": [
    "y_all_sample1 = y_all_sample1[x_all_sample1<110]\n",
    "x_all_sample1 = x_all_sample1[x_all_sample1<110]\n",
    "\n",
    "x_coor = color_array_sample1[:, 0]\n",
    "color_array_sample1 = color_array_sample1[x_coor<110]\n",
    "\n",
    "y_all_sample2 = y_all_sample2[x_all_sample2<110]\n",
    "x_all_sample2 = x_all_sample2[x_all_sample2<110]\n",
    "\n",
    "x_coor = color_array_sample2[:, 0]\n",
    "color_array_sample2 = color_array_sample2[x_coor<110]\n",
    "\n",
    "y_all_sample3 = y_all_sample3[x_all_sample3<110]\n",
    "x_all_sample3 = x_all_sample3[x_all_sample3<110]\n",
    "\n",
    "x_coor = color_array_sample3[:, 0]\n",
    "color_array_sample3 = color_array_sample3[x_coor<110]"
   ]
  },
  {
   "cell_type": "code",
   "execution_count": null,
   "id": "79",
   "metadata": {},
   "outputs": [],
   "source": [
    "fig, axes = layout_fig(3, 1, figsize=(8, 8))\n",
    "Viz.draw_background_colors(axes[0], color_array_sample1)\n",
    "\n",
    "axes[0].scatter(x_all_sample1, y_all_sample1, color='k', s=1)\n",
    "Viz.set_labels(axes[0], xlabel='Time (s)', ylabel='Intensity (a.u.)', title='treated_213nm')\n",
    "labelfigs(axes[0], number=0, loc='tr', style='b', size=12, inset_fraction=(0.08, 0.03))\n",
    "# axes[0].set_xlim(0, 115)\n",
    "\n",
    "Viz.draw_background_colors(axes[1], color_array_sample2)\n",
    "axes[1].scatter(x_all_sample2, y_all_sample2, color='k', s=1)\n",
    "Viz.set_labels(axes[1], xlabel='Time (s)', ylabel='Intensity (a.u.)', title='treated_81nm')\n",
    "labelfigs(axes[1], number=1, loc='tr', style='b', size=12, inset_fraction=(0.08, 0.03))\n",
    "\n",
    "Viz.draw_background_colors(axes[2], color_array_sample3)\n",
    "axes[2].scatter(x_all_sample3, y_all_sample3, color='k', s=1)\n",
    "Viz.set_labels(axes[2], xlabel='Time (s)', ylabel='Intensity (a.u.)', title='untreated_162nm')\n",
    "labelfigs(axes[2], number=2, loc='tr', style='b', size=12, inset_fraction=(0.08, 0.03))\n",
    "\n",
    "# printing_plot.savefig(fig, 'fitting_results_clear', dpi=300)\n",
    "plt.show()"
   ]
  },
  {
   "cell_type": "markdown",
   "id": "80",
   "metadata": {},
   "source": [
    "### 4.4 3D structure drawing"
   ]
  },
  {
   "cell_type": "code",
   "execution_count": null,
   "id": "81",
   "metadata": {},
   "outputs": [],
   "source": [
    "ti_color, sr_color = rgba_to_rgb((*mcolors.hex2color(seq_colors[5]), 0.6)), rgba_to_rgb((*mcolors.hex2color(seq_colors[0]), 0.6))\n",
    "\n",
    "box1_ti_color = rgba_to_rgb((*mcolors.hex2color(seq_colors[5]), 0.5))\n",
    "box2_ti_color = rgba_to_rgb((*mcolors.hex2color(seq_colors[5]), 0.6))\n",
    "box3_ti_color = rgba_to_rgb((*mcolors.hex2color(seq_colors[5]), 0.7))\n",
    "\n",
    "box1_sr_color = rgba_to_rgb((*mcolors.hex2color(seq_colors[0]), 0.5))\n",
    "box2_sr_color = rgba_to_rgb((*mcolors.hex2color(seq_colors[0]), 0.6))\n",
    "box3_sr_color = rgba_to_rgb((*mcolors.hex2color(seq_colors[0]), 0.7))\n",
    "\n",
    "size = 1.5"
   ]
  },
  {
   "cell_type": "code",
   "execution_count": null,
   "id": "82",
   "metadata": {},
   "outputs": [],
   "source": [
    "n1 = 100\n",
    "mlab.figure(size = (1024,768), bgcolor = (1,1,1), fgcolor = (146/255,197/255,222/255))\n",
    "draw_box(xrange=(0, 30), yrange=(0, 50), zrange=(4, 6), color=box1_ti_color)\n",
    "sphere_to_surface(xrange=(0, 30), yrange=(0, 50), z=6, n=n1, size=size, color=sr_color, offset=(0,0))\n",
    "\n",
    "draw_box(xrange=(0, 50), yrange=(0, 50), zrange=(2, 4), color=box2_ti_color)\n",
    "sphere_to_surface(xrange=(30, 50), yrange=(0, 50), z=4, n=n1, size=size, color=sr_color, offset=(0,0))\n",
    "\n",
    "draw_box(xrange=(0, 70), yrange=(0, 50), zrange=(0, 2), color=box3_ti_color)\n",
    "sphere_to_surface(xrange=(50, 70), yrange=(0, 50), z=2, n=n1, size=size, color=sr_color, offset=(0,0))\n",
    "mlab.savefig('../Figures/3.Growth_mechanism/stage_1.png')\n",
    "mlab.show()"
   ]
  },
  {
   "cell_type": "code",
   "execution_count": null,
   "id": "83",
   "metadata": {},
   "outputs": [],
   "source": [
    "n1 = 800\n",
    "mlab.figure(size = (1024,768), bgcolor = (1,1,1), fgcolor = (146/255,197/255,222/255))\n",
    "draw_box(xrange=(0, 30), yrange=(0, 50), zrange=(4, 6), color=box1_ti_color)\n",
    "sphere_to_surface(xrange=(0, 30), yrange=(0, 50), z=6, n=n1, size=size, color=sr_color, offset=(1,1))\n",
    "\n",
    "draw_box(xrange=(0, 50), yrange=(0, 50), zrange=(2, 4), color=box2_ti_color)\n",
    "sphere_to_surface(xrange=(30, 50), yrange=(0, 50), z=4, n=n1, size=size, color=sr_color, offset=(1,1))\n",
    "\n",
    "draw_box(xrange=(0, 70), yrange=(0, 50), zrange=(0, 2), color=box3_ti_color)\n",
    "sphere_to_surface(xrange=(50, 70), yrange=(0, 50), z=2, n=n1, size=size, color=sr_color, offset=(1,1))\n",
    "mlab.savefig('../Figures/3.Growth_mechanism/stage_2.png')\n",
    "mlab.show()"
   ]
  },
  {
   "cell_type": "code",
   "execution_count": null,
   "id": "84",
   "metadata": {},
   "outputs": [],
   "source": [
    "n1 = 8000\n",
    "mlab.figure(size = (1024,768), bgcolor = (1,1,1), fgcolor = (146/255,197/255,222/255))\n",
    "draw_box(xrange=(0, 30), yrange=(0, 50), zrange=(4, 6), color=box1_ti_color)\n",
    "sphere_to_surface(xrange=(0, 30), yrange=(0, 50), z=6, n=n1, size=size, color=sr_color, offset=(1,1))\n",
    "\n",
    "draw_box(xrange=(0, 50), yrange=(0, 50), zrange=(2, 4), color=box2_ti_color)\n",
    "sphere_to_surface(xrange=(30, 50), yrange=(0, 50), z=4, n=n1, size=size, color=sr_color, offset=(1,1))\n",
    "\n",
    "draw_box(xrange=(0, 70), yrange=(0, 50), zrange=(0, 2), color=box3_ti_color)\n",
    "sphere_to_surface(xrange=(50, 70), yrange=(0, 50), z=2, n=n1, size=size, color=sr_color, offset=(1,1))\n",
    "mlab.savefig('../Figures/3.Growth_mechanism/stage_3.png')\n",
    "mlab.show()"
   ]
  },
  {
   "cell_type": "code",
   "execution_count": null,
   "id": "85",
   "metadata": {},
   "outputs": [],
   "source": [
    "n2 = 500\n",
    "mlab.figure(size = (1024,768), bgcolor = (1,1,1), fgcolor = (146/255,197/255,222/255))\n",
    "draw_box(xrange=(0, 30), yrange=(0, 50), zrange=(4, 6), color=box1_ti_color)\n",
    "draw_box(xrange=(0, 30), yrange=(0, 50), zrange=(6, 7), color=box1_sr_color)\n",
    "sphere_to_surface(xrange=(0, 30), yrange=(0, 50), z=7, n=n2, size=size, color=ti_color, offset=(1,1))\n",
    "\n",
    "draw_box(xrange=(0, 50), yrange=(0, 50), zrange=(2, 4), color=box2_ti_color)\n",
    "draw_box(xrange=(30, 50), yrange=(0, 50), zrange=(4, 5), color=box2_sr_color)\n",
    "sphere_to_surface(xrange=(30, 50), yrange=(0, 50), z=5, n=n2, size=size, color=ti_color, offset=(1,1))\n",
    "\n",
    "draw_box(xrange=(0, 70), yrange=(0, 50), zrange=(0, 2), color=box3_ti_color)\n",
    "draw_box(xrange=(50, 70), yrange=(0, 50), zrange=(2, 3), color=box3_sr_color)\n",
    "sphere_to_surface(xrange=(50, 70), yrange=(0, 50), z=3, n=n2, size=size, color=ti_color, offset=(1,1))\n",
    "mlab.savefig('../Figures/3.Growth_mechanism/stage_4.png')\n",
    "mlab.show()"
   ]
  },
  {
   "cell_type": "code",
   "execution_count": null,
   "id": "86",
   "metadata": {},
   "outputs": [],
   "source": [
    "n2 = 8000\n",
    "mlab.figure(size = (1024,768), bgcolor = (1,1,1), fgcolor = (146/255,197/255,222/255))\n",
    "draw_box(xrange=(0, 30), yrange=(0, 50), zrange=(4, 6), color=box1_ti_color)\n",
    "draw_box(xrange=(0, 30), yrange=(0, 50), zrange=(6, 7), color=box1_sr_color)\n",
    "sphere_to_surface(xrange=(0, 30), yrange=(0, 50), z=7, n=n2, size=size, color=ti_color, offset=(1,1))\n",
    "\n",
    "draw_box(xrange=(0, 50), yrange=(0, 50), zrange=(2, 4), color=box2_ti_color)\n",
    "draw_box(xrange=(30, 50), yrange=(0, 50), zrange=(4, 5), color=box2_sr_color)\n",
    "sphere_to_surface(xrange=(30, 50), yrange=(0, 50), z=5, n=n2, size=size, color=ti_color, offset=(1,1))\n",
    "\n",
    "draw_box(xrange=(0, 70), yrange=(0, 50), zrange=(0, 2), color=box3_ti_color)\n",
    "draw_box(xrange=(50, 70), yrange=(0, 50), zrange=(2, 3), color=box3_sr_color)\n",
    "sphere_to_surface(xrange=(50, 70), yrange=(0, 50), z=3, n=n2, size=size, color=ti_color, offset=(1,1))\n",
    "mlab.savefig('../Figures/3.Growth_mechanism/stage_5.png')\n",
    "# mlab.savefig('../Figures/3.Growth_mechanism/stage_5.svg')\n",
    "mlab.show()"
   ]
  },
  {
   "cell_type": "code",
   "execution_count": null,
   "id": "87",
   "metadata": {},
   "outputs": [],
   "source": []
  }
 ],
 "metadata": {
  "kernelspec": {
   "display_name": "RHEED",
   "language": "python",
   "name": "python3"
  },
  "language_info": {
   "codemirror_mode": {
    "name": "ipython",
    "version": 3
   },
   "file_extension": ".py",
   "mimetype": "text/x-python",
   "name": "python",
   "nbconvert_exporter": "python",
   "pygments_lexer": "ipython3",
   "version": "3.11.10"
  }
 },
 "nbformat": 4,
 "nbformat_minor": 5
}
