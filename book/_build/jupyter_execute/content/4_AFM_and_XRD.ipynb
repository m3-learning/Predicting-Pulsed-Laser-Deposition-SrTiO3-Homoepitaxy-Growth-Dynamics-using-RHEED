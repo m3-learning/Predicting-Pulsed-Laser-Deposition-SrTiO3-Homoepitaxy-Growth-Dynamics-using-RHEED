{
 "cells": [
  {
   "attachments": {},
   "cell_type": "markdown",
   "id": "0",
   "metadata": {},
   "source": [
    "# AFM and XRD"
   ]
  },
  {
   "cell_type": "code",
   "execution_count": null,
   "id": "1",
   "metadata": {},
   "outputs": [],
   "source": [
    "%load_ext autoreload\n",
    "%autoreload 2\n",
    "import os\n",
    "import re\n",
    "import numpy as np\n",
    "import matplotlib.pyplot as plt\n",
    "import sys\n",
    "sys.path.append('../../src/')\n",
    "from viz.style import set_style\n",
    "from util.file_IO import download_and_unzip\n",
    "from viz.printing import printer\n",
    "from viz.layout import layout_fig, labelfigs\n",
    "from sto_rheed.AFM import visualize_afm_image, afm_substrate\n",
    "from sto_rheed.XRD import plot_xrd, plot_rsm\n",
    "\n",
    "# from be.dataset import BE_Dataset\n",
    "printing = printer(basepath = '../Figures/2.AFM_XRD/')\n",
    "set_style(\"printing\")"
   ]
  },
  {
   "attachments": {},
   "cell_type": "markdown",
   "id": "2",
   "metadata": {},
   "source": [
    "## Sample 1 - treated_213nm"
   ]
  },
  {
   "cell_type": "code",
   "execution_count": null,
   "id": "3",
   "metadata": {},
   "outputs": [],
   "source": [
    "img2 = np.loadtxt('../data/AFM/treated_213nm-film.txt')[:256]\n",
    "scalebar_dict = {'image_size': 2008, 'scale_size': 500, 'units': 'nm'}\n",
    "visualize_afm_image(img2, colorbar_range=[-4e-10, 4e-10], figsize=(6,4), scalebar_dict=scalebar_dict,)"
   ]
  },
  {
   "cell_type": "code",
   "execution_count": null,
   "id": "4",
   "metadata": {},
   "outputs": [],
   "source": [
    "img3 = np.loadtxt('../data/AFM/treated_213nm-substrate-tilted.txt')[:256]\n",
    "analyzer = afm_substrate(img3, pixels=256, size=5e-6)\n",
    "img_rot, size_rot = analyzer.rotate_image(angle=-50, demo=False)\n",
    "x, z, peak_indices, valley_indices = analyzer.slice_rotate(img_rot, size_rot, j=60, prominence=1e-5, width=2, xz_angle=3, demo=False)\n",
    "step_heights, step_widths, miscut = analyzer.calculate_substrate_properties(img_rot, size_rot, xz_angle=3, prominence=1e-3, width=2, style='simple', fixed_height=3.91e-10, std_range=1, demo=False)"
   ]
  },
  {
   "attachments": {},
   "cell_type": "markdown",
   "id": "5",
   "metadata": {},
   "source": [
    "## Sample 2 - treated_81nm:"
   ]
  },
  {
   "cell_type": "code",
   "execution_count": null,
   "id": "6",
   "metadata": {},
   "outputs": [],
   "source": [
    "img1 = np.loadtxt('../data/AFM/treated_81nm-substrate.txt')[:256]\n",
    "scalebar_dict = {'image_size': 5000, 'scale_size': 1000, 'units': 'nm'}\n",
    "visualize_afm_image(img1, colorbar_range=[-4e-10, 4e-10], figsize=(6,4), scalebar_dict=scalebar_dict)\n",
    "\n",
    "img2 = np.loadtxt('../data/AFM/treated_81nm-film.txt')[:256]\n",
    "scalebar_dict = {'image_size': 2008, 'scale_size': 500, 'units': 'nm'}\n",
    "visualize_afm_image(img2, colorbar_range=[-4e-10, 4e-10], figsize=(6,4), scalebar_dict=scalebar_dict)"
   ]
  },
  {
   "cell_type": "code",
   "execution_count": null,
   "id": "7",
   "metadata": {},
   "outputs": [],
   "source": [
    "img3 = np.loadtxt('../data/AFM/treated_81nm-substrate.txt')[:256]\n",
    "analyzer = afm_substrate(img3, pixels=256, size=5e-6)\n",
    "img_rot, size_rot = analyzer.rotate_image(angle=-56, demo=False)\n",
    "x, z, peak_indices, valley_indices = analyzer.slice_rotate(img_rot, size_rot, j=60, prominence=1e-13, width=1.5, xz_angle=0, demo=False)\n",
    "# step_heights, step_widths, miscut = analyzer.calculate_simple(x, z, peak_indices, fixed_height=3.91e-5, demo=False)\n",
    "step_heights, step_widths, miscut = analyzer.calculate_substrate_properties(img_rot, size_rot, xz_angle=0, prominence=1e-13, width=1.5, \n",
    "                                                    style='simple', fixed_height=3.91e-10, std_range=1, demo=False)\n"
   ]
  },
  {
   "attachments": {},
   "cell_type": "markdown",
   "id": "8",
   "metadata": {},
   "source": [
    "## Sample 3 - untreated_162nm"
   ]
  },
  {
   "cell_type": "code",
   "execution_count": null,
   "id": "9",
   "metadata": {},
   "outputs": [],
   "source": [
    "img1 = np.loadtxt('../data/AFM/untreated_162nm-substrate.txt')[:256]\n",
    "img1 = np.rot90(img1, k=2)\n",
    "scalebar_dict = {'image_size': 5000, 'scale_size': 1000, 'units': 'nm'}\n",
    "visualize_afm_image(img1, colorbar_range=[-4e-10, 4e-10], figsize=(6,4), scalebar_dict=scalebar_dict)\n",
    "\n",
    "img2 = np.loadtxt('../data/AFM/untreated_162nm-film.txt')[:256]\n",
    "scalebar_dict = {'image_size': 2008, 'scale_size': 500, 'units': 'nm'}\n",
    "visualize_afm_image(img2, colorbar_range=[-4e-10, 4e-10], figsize=(6,4), scalebar_dict=scalebar_dict)"
   ]
  },
  {
   "cell_type": "code",
   "execution_count": null,
   "id": "10",
   "metadata": {},
   "outputs": [],
   "source": [
    "img3 = np.loadtxt('../data/AFM/untreated_162nm-substrate-tilted.txt')[:256]\n",
    "analyzer = afm_substrate(img3, pixels=256, size=5e-6)\n",
    "img_rot, size_rot = analyzer.rotate_image(angle=65, demo=False)\n",
    "x, z, peak_indices, valley_indices = analyzer.slice_rotate(img_rot, size_rot, j=60, prominence=1e-13, width=2, xz_angle=2, demo=False)\n",
    "step_heights, step_widths, miscut = analyzer.calculate_substrate_properties(img_rot, size_rot, xz_angle=2, prominence=1e-13, width=2, style='simple', fixed_height=3.91e-10/2, std_range=1, demo=False)"
   ]
  },
  {
   "attachments": {},
   "cell_type": "markdown",
   "id": "11",
   "metadata": {},
   "source": [
    "## Summary of XRD and RSM"
   ]
  },
  {
   "cell_type": "code",
   "execution_count": null,
   "id": "12",
   "metadata": {},
   "outputs": [],
   "source": [
    "fig = plt.figure(figsize=(8,8))\n",
    "\n",
    "ax0 = plt.subplot2grid((4, 2), (0, 0), colspan=2)  # colspan=2 means the plot spans 2 columns\n",
    "files = ['../Data/XRD/substrate-XRD_42_49.xrdml', '../Data/XRD/treated_213nm-XRD_42_29.xrdml', '../Data/XRD/treated_81nm-XRD_42_29.xrdml', '../Data/XRD/untreated_162nm-XRD_42_29.xrdml']\n",
    "labels = ['substrate', 'treated_213nm', 'treated_81nm', 'untreated_162nm']\n",
    "plot_xrd(ax0, files, labels, diff=None, xrange=(44, 48.8), label_size=10, tick_size=8, legend_size=10)\n",
    "labelfigs(ax0, 0, loc='tr', size=15, style='b', inset_fraction=(0.8, 0.1))\n",
    "\n",
    "files_002 = ['../Data/XRD/treated_213nm-RSM_002.xrdml', '../Data/XRD/treated_81nm-RSM_002.xrdml', '../Data/XRD/untreated_162nm-RSM_002.xrdml']\n",
    "for i, file in enumerate(files_002):\n",
    "    ax = plt.subplot2grid((4, 2), (i+1, 0))\n",
    "    plot_rsm(ax, file, label_size=10, tick_size=8)\n",
    "    ax.set_xlim(-0.0032, 0.0032)\n",
    "    ax.set_ylim(0.505, 0.520)\n",
    "    \n",
    "    labelfigs(ax, i+1, loc='tr', size=15)\n",
    "    \n",
    "files_103 = ['../Data/XRD/treated_213nm-RSM_103.xrdml', '../Data/XRD/treated_81nm-RSM_103.xrdml', '../Data/XRD/untreated_162nm-RSM_103.xrdml']\n",
    "for i, file in enumerate(files_103):\n",
    "    ax = plt.subplot2grid((4, 2), (i+1, 1))\n",
    "    plot_rsm(ax, file, label_size=10, tick_size=8, vmin=3, vmax=1e6)\n",
    "    ax.set_xlim(0.252, 0.260)\n",
    "    ax.set_ylim(0.764, 0.773)\n",
    "    labelfigs(ax, i+4, loc='tr', size=15)\n",
    "    \n",
    "plt.tight_layout()\n",
    "printing.savefig(fig, 'S2-XRD_RSM')\n",
    "plt.show() \n",
    "\n",
    "print(f'\\033[1mFig. S2 a\\033[0m X-ray Diffraction result for a typical SrTiO3 substrate and samples. \\\n",
    "\\033[1mb, c, d\\033[0m Reciprocal Space Mapping results in (002) orientaion for sample treated_213nm, treated_81nm and untreated_162nm, respectively. \\\n",
    "\\033[1me, f, g\\033[0m Reciprocal Space Mapping results in (103) orientaion for sample treated_213nm, treated_81nm and untreated_162nm, respectively.')"
   ]
  },
  {
   "cell_type": "code",
   "execution_count": null,
   "id": "13",
   "metadata": {},
   "outputs": [],
   "source": []
  }
 ],
 "metadata": {
  "kernelspec": {
   "display_name": "RHEED",
   "language": "python",
   "name": "python3"
  },
  "language_info": {
   "codemirror_mode": {
    "name": "ipython",
    "version": 3
   },
   "file_extension": ".py",
   "mimetype": "text/x-python",
   "name": "python",
   "nbconvert_exporter": "python",
   "pygments_lexer": "ipython3",
   "version": "3.11.10"
  }
 },
 "nbformat": 4,
 "nbformat_minor": 5
}
