{
 "cells": [
  {
   "attachments": {},
   "cell_type": "markdown",
   "id": "0",
   "metadata": {},
   "source": [
    "# RHEED Metrics with Details"
   ]
  },
  {
   "cell_type": "code",
   "execution_count": null,
   "id": "1",
   "metadata": {},
   "outputs": [],
   "source": [
    "%load_ext autoreload\n",
    "%autoreload 2\n",
    "import os\n",
    "import re\n",
    "import numpy as np\n",
    "import matplotlib.pyplot as plt\n",
    "\n",
    "from util.file_IO import download_and_unzip\n",
    "from viz.style import set_style\n",
    "from viz.printing import printer\n",
    "from viz.layout import layout_fig, labelfigs\n",
    "from sto_rheed.Dataset import RHEED_spot_Dataset, RHEED_parameter_dataset\n",
    "from sto_rheed.Viz import Viz\n",
    "from sto_rheed.Fit import RHEED_image_processer, Gaussian, NormalizeData\n",
    "\n",
    "printing_image = printer(basepath = '../Figures/1.Fit_RHEED_spot/')\n",
    "printing_plot = printer(basepath = '../Figures/1.Fit_RHEED_spot/', fileformats=['png', 'svg'], dpi=300)\n",
    "\n",
    "set_style(\"printing\")"
   ]
  },
  {
   "attachments": {},
   "cell_type": "markdown",
   "id": "2",
   "metadata": {},
   "source": [
    "## 1. Download datasets from Zenodo"
   ]
  },
  {
   "cell_type": "code",
   "execution_count": null,
   "id": "3",
   "metadata": {},
   "outputs": [],
   "source": [
    "# # Download the data file from Zenodo\n",
    "# download=False\n",
    "# if download:\n",
    "#     # full size version\n",
    "#     urls = ['https://zenodo.org/record/7950043/files/STO_STO_test6_06292022-standard.h5?download=1',\n",
    "#             'https://zenodo.org/record/7950043/files/STO_STO_test7_06292022-standard.h5?download=1',\n",
    "#             'https://zenodo.org/record/7950043/files/STO_STO_test9_07142022-standard.h5?download=1',\n",
    "#             'https://zenodo.org/record/7950043/files/test6_gaussian_fit_parameters_all-04232023.h5?download=1',\n",
    "#             'https://zenodo.org/record/7950043/files/test7_gaussian_fit_parameters_all-04232023.h5?download=1',\n",
    "#             'https://zenodo.org/record/7950043/files/test9_gaussian_fit_parameters_all-04232023.h5?download=1']\n",
    "\n",
    "#     # compressed version\n",
    "#     urls_compressed = ['https://zenodo.org/record/7948591/files/STO_STO_test6_06292022-standard-compressed.h5?download=1',\n",
    "#                         'https://zenodo.org/record/7948591/files/STO_STO_test7_06292022-standard-compressed.h5?download=1',\n",
    "#                         'https://zenodo.org/record/7948591/files/STO_STO_test9_07142022-standard-compressed.h5?download=1',\n",
    "#                         'https://zenodo.org/record/7948591/files/test6_gaussian_fit_parameters_all-04232023-compressed.h5?download=1',\n",
    "#                         'https://zenodo.org/record/7948591/files/test7_gaussian_fit_parameters_all-04232023-compressed.h5?download=1',\n",
    "#                         'https://zenodo.org/record/7948591/files/test9_gaussian_fit_parameters_all-04232023-compressed.h5?download=1']   \n",
    "\n",
    "#     for url in urls:\n",
    "#         # Specify the filename and the path to save the file\n",
    "#         filename = re.split(r'\\?', os.path.basename(url))[0]\n",
    "#         save_path = './../2023_RHEED_PLD_SrTiO3/Datasets/'\n",
    "\n",
    "#         # download the file\n",
    "#         download_and_unzip(filename, url, save_path)"
   ]
  },
  {
   "attachments": {},
   "cell_type": "markdown",
   "id": "4",
   "metadata": {},
   "source": [
    "## 2. Fitting the RHEED Dataset"
   ]
  },
  {
   "attachments": {},
   "cell_type": "markdown",
   "id": "5",
   "metadata": {},
   "source": [
    "### 2.1 Sample treated_213nm"
   ]
  },
  {
   "attachments": {},
   "cell_type": "markdown",
   "id": "6",
   "metadata": {},
   "source": [
    "#### 2.1.1 Loading the Dataset"
   ]
  },
  {
   "cell_type": "code",
   "execution_count": null,
   "id": "7",
   "metadata": {},
   "outputs": [],
   "source": [
    "path = 'D:/STO_STO-Data/RHEED/STO_STO_Berkeley/STO_STO_test6_06292022-standard.h5'\n",
    "D1_spot = RHEED_spot_Dataset(path, sample_name='treated_213nm')\n",
    "D1_spot.data_info"
   ]
  },
  {
   "attachments": {},
   "cell_type": "markdown",
   "id": "8",
   "metadata": {},
   "source": [
    "#### 2.1.2 Locate the diffraction spots"
   ]
  },
  {
   "cell_type": "code",
   "execution_count": null,
   "id": "9",
   "metadata": {},
   "outputs": [],
   "source": [
    "D1_spot.viz_RHEED_spot(growth='growth_2', index=0, figsize=(2,4), filename=True, printing=printing_image)"
   ]
  },
  {
   "attachments": {},
   "cell_type": "markdown",
   "id": "10",
   "metadata": {},
   "source": [
    "#### 2.1.3 Visualize an example"
   ]
  },
  {
   "cell_type": "code",
   "execution_count": null,
   "id": "11",
   "metadata": {},
   "outputs": [],
   "source": [
    "crop_dict = {'spot_1': {'y_start':40, 'y_end':80, 'x_start':100, 'x_end':160}, \n",
    "             'spot_2': {'y_start':137, 'y_end':166, 'x_start':147, 'x_end':195}, \n",
    "             'spot_3': {'y_start':230, 'y_end':262, 'x_start':115, 'x_end':180}}\n",
    "\n",
    "fit_function = Gaussian().recreate_gaussian\n",
    "processor = RHEED_image_processer(D1_spot, crop_dict, fit_function)\n",
    "img, img_rec, parameters = processor.visualize(growth='growth_1', spot='spot_1', frame=0)"
   ]
  },
  {
   "cell_type": "code",
   "execution_count": null,
   "id": "12",
   "metadata": {},
   "outputs": [],
   "source": [
    "img, img_rec, parameters = processor.visualize(growth='growth_12', spot='spot_1', frame=0)"
   ]
  },
  {
   "cell_type": "code",
   "execution_count": null,
   "id": "13",
   "metadata": {},
   "outputs": [],
   "source": [
    "img, img_rec, parameters = processor.visualize(growth='growth_1', spot='spot_2', frame=0)"
   ]
  },
  {
   "cell_type": "code",
   "execution_count": null,
   "id": "14",
   "metadata": {},
   "outputs": [],
   "source": [
    "img, img_rec, parameters = processor.visualize(growth='growth_12', spot='spot_2', frame=0)"
   ]
  },
  {
   "cell_type": "code",
   "execution_count": null,
   "id": "15",
   "metadata": {},
   "outputs": [],
   "source": [
    "img, img_rec, parameters = processor.visualize(growth='growth_1', spot='spot_3', frame=0)"
   ]
  },
  {
   "cell_type": "code",
   "execution_count": null,
   "id": "16",
   "metadata": {},
   "outputs": [],
   "source": [
    "img, img_rec, parameters = processor.visualize(growth='growth_12', spot='spot_3', frame=0)"
   ]
  },
  {
   "attachments": {},
   "cell_type": "markdown",
   "id": "17",
   "metadata": {},
   "source": [
    "#### 2.1.4 Exam the dataset"
   ]
  },
  {
   "cell_type": "code",
   "execution_count": null,
   "id": "18",
   "metadata": {},
   "outputs": [],
   "source": [
    "path = 'D:/STO_STO-Data/RHEED/STO_STO_Berkeley/test6_gaussian_fit_parameters_all-04232023.h5'\n",
    "D1_para = RHEED_parameter_dataset(path, camera_freq=500, sample_name='treated_213nm')\n",
    "# D1_para.data_info   "
   ]
  },
  {
   "cell_type": "code",
   "execution_count": null,
   "id": "19",
   "metadata": {},
   "outputs": [],
   "source": [
    "D1_para.viz_RHEED_parameter(growth='growth_1', spot='spot_2', index=0, filename = True, printing=printing_image)"
   ]
  },
  {
   "cell_type": "code",
   "execution_count": null,
   "id": "20",
   "metadata": {},
   "outputs": [],
   "source": [
    "D1_para.viz_RHEED_parameter(growth='growth_1', spot='spot_2', index=5000)"
   ]
  },
  {
   "cell_type": "code",
   "execution_count": null,
   "id": "21",
   "metadata": {},
   "outputs": [],
   "source": [
    "D1_para.viz_RHEED_parameter(growth='growth_1', spot='spot_2', index=10000)"
   ]
  },
  {
   "cell_type": "code",
   "execution_count": null,
   "id": "22",
   "metadata": {},
   "outputs": [],
   "source": [
    "growth_list = ['growth_1', 'growth_2', 'growth_3', 'growth_4', 'growth_5', 'growth_6', \n",
    "               'growth_7', 'growth_8', 'growth_9', 'growth_10', 'growth_11', 'growth_12']\n",
    "D1_para.viz_RHEED_parameter_trend(growth_list, spot='spot_2', metric_list=['img_sum', 'img_rec_sum', 'x', 'y', 'width_x', 'width_y'], \n",
    "                                  head_tail=(100,500), interval=200)"
   ]
  },
  {
   "cell_type": "code",
   "execution_count": null,
   "id": "23",
   "metadata": {},
   "outputs": [],
   "source": [
    "growth_list = ['growth_1', 'growth_2', 'growth_3', 'growth_4', 'growth_5', 'growth_6', \n",
    "               'growth_7', 'growth_8', 'growth_9', 'growth_10', 'growth_11', 'growth_12']\n",
    "D1_para.viz_RHEED_parameter_trend(growth_list, spot='spot_2', head_tail=(100,300), filename='S3-treated_213nm-RHEED_metrics', printing=printing_plot, dpi=100)"
   ]
  },
  {
   "attachments": {},
   "cell_type": "markdown",
   "id": "24",
   "metadata": {},
   "source": [
    "### 2.2 Sample treated_81nm"
   ]
  },
  {
   "attachments": {},
   "cell_type": "markdown",
   "id": "25",
   "metadata": {},
   "source": [
    "#### 2.2.1 Loading the Dataset"
   ]
  },
  {
   "cell_type": "code",
   "execution_count": null,
   "id": "26",
   "metadata": {},
   "outputs": [],
   "source": [
    "path = 'D:/STO_STO-Data/RHEED/STO_STO_Berkeley/STO_STO_test7_06292022-standard.h5'\n",
    "D2_spot = RHEED_spot_Dataset(path, sample_name='treated_81nm')\n",
    "D2_spot.data_info"
   ]
  },
  {
   "attachments": {},
   "cell_type": "markdown",
   "id": "27",
   "metadata": {},
   "source": [
    "#### 2.2.2 Locate the diffraction spots"
   ]
  },
  {
   "cell_type": "code",
   "execution_count": null,
   "id": "28",
   "metadata": {},
   "outputs": [],
   "source": [
    "D2_spot.viz_RHEED_spot(growth='growth_2', index=10, figsize=(2,3), filename=True, printing=printing_image)"
   ]
  },
  {
   "attachments": {},
   "cell_type": "markdown",
   "id": "29",
   "metadata": {},
   "source": [
    "#### 2.2.3 Visualize an example"
   ]
  },
  {
   "cell_type": "code",
   "execution_count": null,
   "id": "30",
   "metadata": {},
   "outputs": [],
   "source": [
    "crop_dict = {'spot_1': {'y_start':50, 'y_end':80, 'x_start':340, 'x_end':450},\n",
    "             'spot_2': {'y_start':143, 'y_end':165, 'x_start':415, 'x_end':455},\n",
    "             'spot_3': {'y_start':220, 'y_end':260, 'x_start':340, 'x_end':450}}\n",
    "fit_function = Gaussian().recreate_gaussian\n",
    "processor = RHEED_image_processer(D2_spot, crop_dict, fit_function)\n",
    "img, img_rec, parameters = processor.visualize(growth='growth_1', spot='spot_1', frame=1000)"
   ]
  },
  {
   "cell_type": "code",
   "execution_count": null,
   "id": "31",
   "metadata": {},
   "outputs": [],
   "source": [
    "img, img_rec, parameters = processor.visualize(growth='growth_12', spot='spot_1', frame=1000)"
   ]
  },
  {
   "cell_type": "code",
   "execution_count": null,
   "id": "32",
   "metadata": {},
   "outputs": [],
   "source": [
    "img, img_rec, parameters = processor.visualize(growth='growth_1', spot='spot_2', frame=1000)"
   ]
  },
  {
   "cell_type": "code",
   "execution_count": null,
   "id": "33",
   "metadata": {},
   "outputs": [],
   "source": [
    "img, img_rec, parameters = processor.visualize(growth='growth_12', spot='spot_2', frame=1000)"
   ]
  },
  {
   "cell_type": "code",
   "execution_count": null,
   "id": "34",
   "metadata": {},
   "outputs": [],
   "source": [
    "img, img_rec, parameters = processor.visualize(growth='growth_1', spot='spot_3', frame=1000)"
   ]
  },
  {
   "cell_type": "code",
   "execution_count": null,
   "id": "35",
   "metadata": {},
   "outputs": [],
   "source": [
    "img, img_rec, parameters = processor.visualize(growth='growth_12', spot='spot_3', frame=1000)"
   ]
  },
  {
   "attachments": {},
   "cell_type": "markdown",
   "id": "36",
   "metadata": {},
   "source": [
    "#### 2.2.4 Exam the dataset"
   ]
  },
  {
   "cell_type": "code",
   "execution_count": null,
   "id": "37",
   "metadata": {},
   "outputs": [],
   "source": [
    "path = 'D:/STO_STO-Data/RHEED/STO_STO_Berkeley/test7_gaussian_fit_parameters_all-04232023.h5'\n",
    "D2_para = RHEED_parameter_dataset(path, camera_freq=500, sample_name='treated_81nm')\n",
    "# D2_para.data_info"
   ]
  },
  {
   "cell_type": "code",
   "execution_count": null,
   "id": "38",
   "metadata": {},
   "outputs": [],
   "source": [
    "D2_para.viz_RHEED_parameter(growth='growth_2', spot='spot_2', index=10000, filename=True, printing=printing_image)"
   ]
  },
  {
   "cell_type": "code",
   "execution_count": null,
   "id": "39",
   "metadata": {},
   "outputs": [],
   "source": [
    "growth_list = ['growth_1', 'growth_2', 'growth_3', 'growth_4', 'growth_5', 'growth_6', 'growth_7', 'growth_8', 'growth_9', 'growth_10', 'growth_11', 'growth_12']\n",
    "D2_para.viz_RHEED_parameter_trend(growth_list, spot='spot_2', metric_list=['img_sum', 'img_rec_sum', 'x', 'y', 'width_x', 'width_y'], )"
   ]
  },
  {
   "cell_type": "code",
   "execution_count": null,
   "id": "40",
   "metadata": {},
   "outputs": [],
   "source": [
    "growth_list = ['growth_1', 'growth_2', 'growth_3', 'growth_4', 'growth_5', 'growth_6', 'growth_7', 'growth_8', 'growth_9', 'growth_10', 'growth_11', 'growth_12']\n",
    "D2_para.viz_RHEED_parameter_trend(growth_list, spot='spot_2', filename='S4-treated_81nm-RHEED_metrics', printing=printing_plot, dpi=100)"
   ]
  },
  {
   "attachments": {},
   "cell_type": "markdown",
   "id": "41",
   "metadata": {},
   "source": [
    "### 2.3 Sample untreated_162nm"
   ]
  },
  {
   "attachments": {},
   "cell_type": "markdown",
   "id": "42",
   "metadata": {},
   "source": [
    "#### 2.3.1 Loading the Dataset"
   ]
  },
  {
   "cell_type": "code",
   "execution_count": null,
   "id": "43",
   "metadata": {},
   "outputs": [],
   "source": [
    "path = 'D:/STO_STO-Data/RHEED/STO_STO_Berkeley/STO_STO_test9_07142022-standard.h5'\n",
    "D3_spot = RHEED_spot_Dataset(path, sample_name='untreated_162nm')\n",
    "D3_spot.data_info"
   ]
  },
  {
   "attachments": {},
   "cell_type": "markdown",
   "id": "44",
   "metadata": {},
   "source": [
    "#### 2.3.2 Locate the diffraction spots"
   ]
  },
  {
   "cell_type": "code",
   "execution_count": null,
   "id": "45",
   "metadata": {},
   "outputs": [],
   "source": [
    "D3_spot.viz_RHEED_spot(growth='growth_2', index=0, figsize=(2,4), filename=True, printing=printing_image)"
   ]
  },
  {
   "cell_type": "code",
   "execution_count": null,
   "id": "46",
   "metadata": {},
   "outputs": [],
   "source": [
    "D3_spot.viz_RHEED_spot(growth='growth_1', index=0, figsize=(2,4), label_index=0, clim=(0, 168), filename=True, printing=printing_image)\n",
    "D3_spot.viz_RHEED_spot(growth='growth_1', index=13000, figsize=(2,4), label_index=1, clim=(0, 168), filename=True, printing=printing_image)"
   ]
  },
  {
   "cell_type": "code",
   "execution_count": null,
   "id": "47",
   "metadata": {},
   "outputs": [],
   "source": []
  },
  {
   "attachments": {},
   "cell_type": "markdown",
   "id": "48",
   "metadata": {},
   "source": [
    "#### 2.3.3 Visualize an example"
   ]
  },
  {
   "cell_type": "code",
   "execution_count": null,
   "id": "49",
   "metadata": {},
   "outputs": [],
   "source": [
    "# sets where to crop the image to extact the peaks\n",
    "crop_dict = {'spot_1': {'y_start':50, 'y_end':72, 'x_start':100, 'x_end':150},\n",
    "             'spot_2': {'y_start':143, 'y_end':162, 'x_start':150, 'x_end':190},\n",
    "             'spot_3': {'y_start':218, 'y_end':262, 'x_start':100, 'x_end':165}}\n",
    "fit_function = Gaussian().recreate_gaussian\n",
    "processor = RHEED_image_processer(D3_spot, crop_dict, fit_function)"
   ]
  },
  {
   "cell_type": "code",
   "execution_count": null,
   "id": "50",
   "metadata": {},
   "outputs": [],
   "source": [
    "img, img_rec, parameters = processor.visualize(growth='growth_1', spot='spot_1', frame=1000)"
   ]
  },
  {
   "cell_type": "code",
   "execution_count": null,
   "id": "51",
   "metadata": {},
   "outputs": [],
   "source": [
    "img, img_rec, parameters = processor.visualize(growth='growth_18', spot='spot_1', frame=1000)"
   ]
  },
  {
   "cell_type": "code",
   "execution_count": null,
   "id": "52",
   "metadata": {},
   "outputs": [],
   "source": [
    "img, img_rec, parameters = processor.visualize(growth='growth_1', spot='spot_2', frame=1000)"
   ]
  },
  {
   "cell_type": "code",
   "execution_count": null,
   "id": "53",
   "metadata": {},
   "outputs": [],
   "source": [
    "img, img_rec, parameters = processor.visualize(growth='growth_18', spot='spot_2', frame=1000)"
   ]
  },
  {
   "cell_type": "code",
   "execution_count": null,
   "id": "54",
   "metadata": {},
   "outputs": [],
   "source": [
    "img, img_rec, parameters = processor.visualize(growth='growth_1', spot='spot_3', frame=1000)"
   ]
  },
  {
   "cell_type": "code",
   "execution_count": null,
   "id": "55",
   "metadata": {},
   "outputs": [],
   "source": [
    "img, img_rec, parameters = processor.visualize(growth='growth_18', spot='spot_3', frame=1000)"
   ]
  },
  {
   "attachments": {},
   "cell_type": "markdown",
   "id": "56",
   "metadata": {},
   "source": [
    "#### 2.3.4 Examine the dataset"
   ]
  },
  {
   "cell_type": "code",
   "execution_count": null,
   "id": "57",
   "metadata": {},
   "outputs": [],
   "source": [
    "path = 'D:/STO_STO-Data/RHEED/STO_STO_Berkeley/test9_gaussian_fit_parameters_all-04232023.h5'\n",
    "D3_para = RHEED_parameter_dataset(path, camera_freq=500, sample_name='untreated_162nm')\n",
    "D3_para.data_info"
   ]
  },
  {
   "cell_type": "code",
   "execution_count": null,
   "id": "58",
   "metadata": {},
   "outputs": [],
   "source": [
    "D3_para.viz_RHEED_parameter(growth='growth_2', spot='spot_2', index=100, filename=True, printing=printing_image)"
   ]
  },
  {
   "cell_type": "code",
   "execution_count": null,
   "id": "59",
   "metadata": {},
   "outputs": [],
   "source": [
    "growth_list = ['growth_1', 'growth_2', 'growth_3', 'growth_4', 'growth_5', 'growth_6', 'growth_7', 'growth_8', 'growth_9', \n",
    "               'growth_10', 'growth_11', 'growth_12' , 'growth_13', 'growth_14', 'growth_15', 'growth_16', 'growth_17', 'growth_18']\n",
    "D3_para.viz_RHEED_parameter_trend(growth_list, spot='spot_2', metric_list=['img_sum', 'img_rec_sum', 'x', 'y', 'width_x', 'width_y'])"
   ]
  },
  {
   "cell_type": "code",
   "execution_count": null,
   "id": "60",
   "metadata": {},
   "outputs": [],
   "source": [
    "growth_list = ['growth_1', 'growth_2', 'growth_3', 'growth_4', 'growth_5', 'growth_6', 'growth_7', 'growth_8', 'growth_9', \n",
    "               'growth_10', 'growth_11', 'growth_12' , 'growth_13', 'growth_14', 'growth_15', 'growth_16', 'growth_17', 'growth_18']\n",
    "D3_para.viz_RHEED_parameter_trend(growth_list, spot='spot_2', filename='S5-untreated_162nm-RHEED_metrics', printing=printing_plot, dpi=100)"
   ]
  },
  {
   "cell_type": "markdown",
   "id": "61",
   "metadata": {},
   "source": [
    "### Merged plot for RHEED intensity"
   ]
  },
  {
   "cell_type": "code",
   "execution_count": null,
   "id": "62",
   "metadata": {},
   "outputs": [],
   "source": [
    "x_all_list, y_all_list = [], []\n",
    "\n",
    "growth_list = ['growth_1', 'growth_2', 'growth_3', 'growth_4', 'growth_5', 'growth_6', \n",
    "               'growth_7', 'growth_8', 'growth_9', 'growth_10', 'growth_11', 'growth_12']\n",
    "x_all, y_all = D1_para.load_multiple_curves(growth_list=growth_list, spot='spot_2', metric='img_rec_sum')\n",
    "x_all_list.append(x_all)\n",
    "y_all_list.append(y_all)\n",
    "\n",
    "growth_list = ['growth_1', 'growth_2', 'growth_3', 'growth_4', 'growth_5', 'growth_6', 'growth_7', 'growth_8', 'growth_9', 'growth_10', 'growth_11', 'growth_12']\n",
    "x_all, y_all = D2_para.load_multiple_curves(growth_list=growth_list, spot='spot_2', metric='img_rec_sum')\n",
    "x_all_list.append(x_all)\n",
    "y_all_list.append(y_all)\n",
    "\n",
    "growth_list = ['growth_1', 'growth_2', 'growth_3', 'growth_4', 'growth_5', 'growth_6', 'growth_7', 'growth_8', 'growth_9', \n",
    "               'growth_10', 'growth_11', 'growth_12' , 'growth_13', 'growth_14', 'growth_15', 'growth_16', 'growth_17', 'growth_18']\n",
    "x_all, y_all = D3_para.load_multiple_curves(growth_list=growth_list, spot='spot_2', metric='img_rec_sum')\n",
    "x_all_list.append(x_all)\n",
    "y_all_list.append(y_all)"
   ]
  },
  {
   "cell_type": "code",
   "execution_count": null,
   "id": "63",
   "metadata": {},
   "outputs": [],
   "source": [
    "color_blue = (44/255,123/255,182/255)\n",
    "color_orange = (217/255,95/255,2/255)\n",
    "color_purple = (117/255,112/255,179/255)\n",
    "three_colors = [color_blue, color_orange, color_purple]\n",
    "y_max_list, y_min_list = [], []\n",
    "\n",
    "dashed_lines_x_1 = [0, 28, 65, 84, 96, 110, 122, 134, 140, 148, 159, 166, 173,\n",
    "                    # 182, 187, 192, 197, 207.5, 212, 216.5, 222.5, \n",
    "                    # 227, 231.5, 235, 238.5, 243, 247, 251.5, 255.5, 259.5, 264, 268, 272, 276,\n",
    "                    ]\n",
    "dashed_lines_x_2 = [23, 58, 74.5, 87, 99, 111, 118.5, 126.5, 135.5, 143, 151]\n",
    "dashed_lines_x_3 = [1, 39, 66, 98, 130, 164, 198, 210, 222, 235, 248, 260, 272, 284, 297]\n",
    "dashed_lines_x_list = [dashed_lines_x_1, dashed_lines_x_2, dashed_lines_x_3]\n",
    "xlim_list = [(-8, 308), (-7, 262), (-12, 450)]\n",
    "fig, axes = layout_fig(graph=3, mod=1, figsize=(8, 7), layout='tight')\n",
    "for ax, x_all, y_all, color, dashed_lines_x, xlim in zip(axes, x_all_list, y_all_list, three_colors, dashed_lines_x_list, xlim_list):\n",
    "    \n",
    "    # normalize the intensity\n",
    "    y_min_list.append(np.min(y_all))\n",
    "    y_max_list.append(np.max(y_all))\n",
    "    y_all = NormalizeData(y_all, lb=np.min(y_all), ub=np.max(y_all))\n",
    "    \n",
    "    ax.plot(x_all, y_all, color='black', linewidth=1)\n",
    "    for x in dashed_lines_x:\n",
    "        ax.plot([x, x], [np.min(y_all-0.05), np.max(y_all+0.05)], linestyle='--', linewidth=1, color=color)\n",
    "    ax.set_xlim(xlim)\n",
    "    ax.set_ylim(-0.1, 1.1)\n",
    "    Viz.set_labels(ax, xlabel='Time (s)', ylabel='Intensity (a.u.)', yaxis_style='float')\n",
    "\n",
    "plt.savefig('../Figures/1.Fit_RHEED_spot/summarized_spot_2_sum.png', dpi=600, bbox_inches='tight', transparent=True)\n",
    "plt.show()"
   ]
  },
  {
   "cell_type": "code",
   "execution_count": null,
   "id": "64",
   "metadata": {},
   "outputs": [],
   "source": [
    "x_all_list, y_all_list = [], []\n",
    "\n",
    "growth_list = ['growth_1', 'growth_2', 'growth_3']\n",
    "x_all, y_all = D1_para.load_multiple_curves(growth_list=growth_list, spot='spot_2', metric='img_rec_sum')\n",
    "y_all = y_all[(x_all>28) & (x_all<65)]\n",
    "x_all = x_all[(x_all>28) & (x_all<65)]\n",
    "x_all_list.append(x_all) \n",
    "y_all_list.append(y_all)\n",
    "\n",
    "growth_list = ['growth_1', 'growth_2', 'growth_3']\n",
    "x_all, y_all = D2_para.load_multiple_curves(growth_list=growth_list, spot='spot_2', metric='img_rec_sum')\n",
    "y_all = y_all[(x_all>23) & (x_all<60)]\n",
    "x_all = x_all[(x_all>23) & (x_all<60)]\n",
    "x_all_list.append(x_all)\n",
    "y_all_list.append(y_all)\n",
    "\n",
    "growth_list = ['growth_1', 'growth_2']\n",
    "x_all, y_all = D3_para.load_multiple_curves(growth_list=growth_list, spot='spot_2', metric='img_rec_sum')\n",
    "y_all = y_all[(x_all>1) & (x_all<39)]\n",
    "x_all = x_all[(x_all>1) & (x_all<39)]\n",
    "x_all_list.append(x_all)\n",
    "y_all_list.append(y_all)"
   ]
  },
  {
   "cell_type": "code",
   "execution_count": null,
   "id": "65",
   "metadata": {},
   "outputs": [],
   "source": [
    "fig, axes = layout_fig(graph=3, mod=1, figsize=(3, 7), layout='tight')\n",
    "for ax, x_all, y_all, y_min, y_max, color, dashed_lines_x in zip(axes, x_all_list, y_all_list, y_min_list, y_max_list, three_colors, dashed_lines_x_list):\n",
    "    x_all = x_all - x_all[0]\n",
    "    y_all = NormalizeData(y_all, lb=y_min, ub=y_max)\n",
    "    \n",
    "    ax.plot(x_all, y_all, color='black', linewidth=1)\n",
    "    ax.set_xlim(-2, 40)\n",
    "    ax.set_ylim(-0.1, 1.1)\n",
    "    \n",
    "    Viz.set_labels(ax, xlabel='Time (s)', ylabel='Intensity (a.u.)', yaxis_style='float')\n",
    "plt.savefig('../Figures/1.Fit_RHEED_spot/summarized_single_unit_cell_growth.png', dpi=600, bbox_inches='tight', transparent=True)\n",
    "plt.show()"
   ]
  },
  {
   "cell_type": "code",
   "execution_count": null,
   "id": "66",
   "metadata": {},
   "outputs": [],
   "source": []
  },
  {
   "cell_type": "code",
   "execution_count": null,
   "id": "67",
   "metadata": {},
   "outputs": [],
   "source": []
  }
 ],
 "metadata": {
  "kernelspec": {
   "display_name": "RHEED",
   "language": "python",
   "name": "python3"
  },
  "language_info": {
   "codemirror_mode": {
    "name": "ipython",
    "version": 3
   },
   "file_extension": ".py",
   "mimetype": "text/x-python",
   "name": "python",
   "nbconvert_exporter": "python",
   "pygments_lexer": "ipython3",
   "version": "3.11.10"
  }
 },
 "nbformat": 4,
 "nbformat_minor": 5
}
