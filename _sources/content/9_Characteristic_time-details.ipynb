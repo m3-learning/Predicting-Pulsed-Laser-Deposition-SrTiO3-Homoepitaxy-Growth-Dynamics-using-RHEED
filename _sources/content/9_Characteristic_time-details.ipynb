{
 "cells": [
  {
   "attachments": {},
   "cell_type": "markdown",
   "id": "0",
   "metadata": {},
   "source": [
    "# Characteristic Time with Details"
   ]
  },
  {
   "cell_type": "code",
   "execution_count": null,
   "id": "1",
   "metadata": {},
   "outputs": [],
   "source": [
    "%load_ext autoreload\n",
    "%autoreload 2\n",
    "import numpy as np\n",
    "import matplotlib.pyplot as plt\n",
    "from matplotlib import colors\n",
    "import seaborn as sns\n",
    "\n",
    "from viz.style import set_style\n",
    "from viz.printing import printer\n",
    "from viz.layout import layout_fig\n",
    "from sto_rheed.Dataset import RHEED_parameter_dataset\n",
    "from sto_rheed.Viz import Viz\n",
    "from sto_rheed.Analysis import analyze_curves, remove_outlier, smooth\n",
    "from sto_rheed.Packed_functions import visualize_characteristic_time, violinplot_characteristic_time\n",
    "from sto_rheed.Fit import NormalizeData\n",
    "\n",
    "printing = printer(basepath = '../Figures/4.Characteristic_time/')\n",
    "printing_plot = printer(basepath = '../Figures/4.Characteristic_time/', fileformats=['png', 'svg'])\n",
    "\n",
    "set_style(\"printing\")\n",
    "\n",
    "seq_colors = ['#00429d','#2e59a8','#4771b2','#5d8abd','#73a2c6','#8abccf','#a5d5d8','#c5eddf','#ffffe0']\n",
    "bgc1, bgc2 = colors.hex2color(seq_colors[0]), colors.hex2color(seq_colors[5])\n",
    "color_blue = (44/255,123/255,182/255)\n",
    "color_orange = (217/255,95/255,2/255)\n",
    "color_purple = (117/255,112/255,179/255)"
   ]
  },
  {
   "attachments": {},
   "cell_type": "markdown",
   "id": "2",
   "metadata": {},
   "source": [
    "## 1. Examples of Fitted RHEED Intenstity Curve"
   ]
  },
  {
   "cell_type": "code",
   "execution_count": null,
   "id": "3",
   "metadata": {},
   "outputs": [],
   "source": [
    "spot = 'spot_2'\n",
    "metric = 'img_sum'\n",
    "camera_freq = 500\n",
    "fit_settings = {'savgol_window_order': (15, 3), 'pca_component': 10, 'I_diff': 15000, \n",
    "                'unify':False, 'bounds':[0.001, 1], 'p_init':[0.1, 0.4, 0.1]}"
   ]
  },
  {
   "attachments": {},
   "cell_type": "markdown",
   "id": "4",
   "metadata": {},
   "source": [
    "## 2. Analyze the Decay Curve"
   ]
  },
  {
   "attachments": {},
   "cell_type": "markdown",
   "id": "5",
   "metadata": {},
   "source": [
    "### 2.1 Sample 1 - treated_213nm"
   ]
  },
  {
   "attachments": {},
   "cell_type": "markdown",
   "id": "6",
   "metadata": {},
   "source": [
    "#### 2.1.1 Fitting Process"
   ]
  },
  {
   "cell_type": "code",
   "execution_count": null,
   "id": "7",
   "metadata": {},
   "outputs": [],
   "source": [
    "path = 'D:/STO_STO-Data/RHEED/STO_STO_Berkeley/test6_gaussian_fit_parameters_all-04232023.h5'\n",
    "D1_para = RHEED_parameter_dataset(path, camera_freq=500, sample_name='treated_213nm')\n",
    "\n",
    "growth_list = ['growth_1', 'growth_2', 'growth_3', 'growth_4', 'growth_5']\n",
    "D1_para.viz_RHEED_parameter_trend(growth_list, spot='spot_2', metric_list=['img_sum'], head_tail=(100,300), interval=200)"
   ]
  },
  {
   "cell_type": "code",
   "execution_count": null,
   "id": "8",
   "metadata": {},
   "outputs": [],
   "source": [
    "growth_dict = {'growth_1':1, 'growth_2':1, 'growth_3':1, 'growth_4':3, 'growth_5':3}\n",
    "x_all, y_all = D1_para.load_multiple_curves(growth_dict.keys(), spot, metric, x_start=0, interval=0)\n",
    "\n",
    "parameters_all, x_coor_all, info = analyze_curves(D1_para, growth_dict, spot, metric, interval=0, fit_settings=fit_settings)\n",
    "[xs_all, ys_all, ys_fit_all, ys_nor_all, ys_nor_fit_all, ys_nor_fit_failed_all, labels_all, losses_all] = info\n",
    "\n",
    "# define two color regime\n",
    "x_y1 = x_coor_all[losses_all[:,0]>losses_all[:,1]]\n",
    "x_y2 = x_coor_all[losses_all[:,0]<losses_all[:,1]]\n",
    "color_array = Viz.two_color_array(x_coor_all, x_y1, x_y2, bgc1, bgc2, transparency=0.5)\n",
    "color_array = np.concatenate([np.expand_dims(x_coor_all, 1), color_array], axis=1)\n",
    "Viz.plot_fit_details(xs_all, ys_nor_all, ys_nor_fit_all, ys_nor_fit_failed_all, labels=range(len(x_all)), \n",
    "                     save_name='S10-fitting_details_treated_213nm', printing=printing_plot)"
   ]
  },
  {
   "attachments": {},
   "cell_type": "markdown",
   "id": "9",
   "metadata": {},
   "source": [
    "#### 2.1.2 Fitted parameters"
   ]
  },
  {
   "cell_type": "code",
   "execution_count": null,
   "id": "10",
   "metadata": {},
   "outputs": [],
   "source": [
    "fig, axes = layout_fig(4, 1, figsize=(6.5, 2*4))\n",
    "Viz.plot_curve(axes[0], x_all, y_all, plot_type='lineplot', xlabel='Time (s)', ylabel='Intensity (a.u.)', xlim=(-2, 130), yaxis_style='sci')\n",
    "Viz.plot_curve(axes[1], x_coor_all, parameters_all[:,0], plot_type='lineplot', xlabel='Time (s)', ylabel='Fitted a (a.u.)', xlim=(-2, 130))\n",
    "Viz.plot_curve(axes[2], x_coor_all, parameters_all[:,1], plot_type='lineplot', xlabel='Time (s)', ylabel='Fitted b (a.u.)', xlim=(-2, 130))\n",
    "Viz.plot_curve(axes[3], x_coor_all, parameters_all[:,2], plot_type='lineplot', xlabel='Time (s)', ylabel='Characteristic Time (s)', xlim=(-2, 130))\n",
    "printing_plot.savefig(fig, 'S7-treated_213nm-a_b_tau')\n",
    "plt.show()"
   ]
  },
  {
   "attachments": {},
   "cell_type": "markdown",
   "id": "11",
   "metadata": {},
   "source": [
    "#### 2.1.3 Remove Outliers"
   ]
  },
  {
   "attachments": {},
   "cell_type": "markdown",
   "id": "12",
   "metadata": {},
   "source": [
    "Because there is hard boundary when characteristic >= 1, so we can assume the characteristic data that >= 0.95 are outliers and remove from plot. And we also process the data with less noise to observe the trend."
   ]
  },
  {
   "cell_type": "code",
   "execution_count": null,
   "id": "13",
   "metadata": {},
   "outputs": [],
   "source": [
    "x_coor_all_clean, tau_clean = remove_outlier(x_coor_all, parameters_all[:,2], 0.95)\n",
    "tau_smooth = smooth(tau_clean, 5)\n",
    "\n",
    "x_coor_all_clean_sample1 = np.copy(x_coor_all_clean)\n",
    "tau_clean_sample1 = np.copy(tau_clean)\n",
    "tau_smooth_sample1 = np.copy(tau_smooth)\n",
    "\n",
    "fig, ax = plt.subplots(1, 1, figsize=(6, 2), layout='compressed')\n",
    "Viz.plot_curve(ax, x_coor_all_clean_sample1, tau_clean_sample1, curve_y_fit=tau_smooth_sample1, plot_type='lineplot', \n",
    "            plot_colors=['k', '#bc5090'], xlabel='Time (s)', ylabel='Characteristic Time (s)', \n",
    "            yaxis_style='linear', markersize=3, xlim=(-2, 130))\n",
    "plt.show()"
   ]
  },
  {
   "attachments": {},
   "cell_type": "markdown",
   "id": "14",
   "metadata": {},
   "source": [
    "#### 2.1.4 Plot with Background"
   ]
  },
  {
   "cell_type": "code",
   "execution_count": null,
   "id": "15",
   "metadata": {},
   "outputs": [],
   "source": [
    "x_coor_all_clean, tau_clean = remove_outlier(x_coor_all, parameters_all[:,2], 0.95)\n",
    "tau_smooth = smooth(tau_clean, 3)\n",
    "\n",
    "x_FineStep, colors_all = Viz.make_fine_step(x_coor_all_clean, tau_smooth, step=2, color=color_blue, saturation=1, savgol_filter_level=(15, 3))\n",
    "color_array = np.concatenate([np.expand_dims(x_FineStep, 1), colors_all], axis=1)\n",
    "\n",
    "x_all_sample1 = np.copy(x_all)\n",
    "y_all_sample1 = np.copy(y_all)\n",
    "color_array_sample1 = np.copy(color_array)\n",
    "\n",
    "fig, ax = plt.subplots(1, 1, figsize=(6.5, 2), layout='compressed')\n",
    "Viz.draw_background_colors(ax, color_array_sample1)\n",
    "ax.plot(x_all_sample1, y_all_sample1, color='k')\n",
    "Viz.set_labels(ax, xlabel='Time (s)', ylabel='Intensity (a.u.)', title=None, xlim=(-2, 130))\n",
    "plt.show()"
   ]
  },
  {
   "cell_type": "code",
   "execution_count": null,
   "id": "16",
   "metadata": {},
   "outputs": [],
   "source": [
    "np.save('../Data/Plume_results/treated_213nm-fitting_results(sklearn).npy', np.concatenate([np.expand_dims(x_coor_all, 1), parameters_all], axis=1))\n",
    "np.save('../Data/Plume_results/treated_213nm-bg_tau.npy', color_array_sample1)"
   ]
  },
  {
   "attachments": {},
   "cell_type": "markdown",
   "id": "17",
   "metadata": {},
   "source": [
    "### 2.2 Sample 2 - treated_81nm"
   ]
  },
  {
   "attachments": {},
   "cell_type": "markdown",
   "id": "18",
   "metadata": {},
   "source": [
    "#### 2.2.1 Fitting process"
   ]
  },
  {
   "cell_type": "code",
   "execution_count": null,
   "id": "19",
   "metadata": {},
   "outputs": [],
   "source": [
    "path = 'D:/STO_STO-Data/RHEED/STO_STO_Berkeley/test7_gaussian_fit_parameters_all-04232023.h5'\n",
    "D2_para = RHEED_parameter_dataset(path, camera_freq=500, sample_name='treated_81nm')\n",
    "\n",
    "growth_list = ['growth_1', 'growth_2', 'growth_3', 'growth_4', 'growth_5']\n",
    "D2_para.viz_RHEED_parameter_trend(growth_list, spot='spot_2', metric_list=['img_sum'], head_tail=(100,300), interval=200)"
   ]
  },
  {
   "cell_type": "code",
   "execution_count": null,
   "id": "20",
   "metadata": {},
   "outputs": [],
   "source": [
    "growth_dict = {'growth_1':1, 'growth_2':1, 'growth_3':1, 'growth_4':3, 'growth_5':3}\n",
    "x_all, y_all = D2_para.load_multiple_curves(growth_dict.keys(), spot, metric, x_start=0, interval=0)\n",
    "\n",
    "parameters_all, x_coor_all, info = analyze_curves(D2_para, growth_dict, spot, metric, interval=0, fit_settings=fit_settings)\n",
    "[xs_all, ys_all, ys_fit_all, ys_nor_all, ys_nor_fit_all, ys_nor_fit_failed_all, labels_all, losses_all] = info\n",
    "\n",
    "# define two color regime\n",
    "x_y1 = x_coor_all[losses_all[:,0]>losses_all[:,1]]\n",
    "x_y2 = x_coor_all[losses_all[:,0]<losses_all[:,1]]\n",
    "color_array = Viz.two_color_array(x_coor_all, x_y1, x_y2, bgc1, bgc2, transparency=0.5)\n",
    "color_array = np.concatenate([np.expand_dims(x_coor_all, 1), color_array], axis=1)\n",
    "Viz.plot_fit_details(xs_all, ys_nor_all, ys_nor_fit_all, ys_nor_fit_failed_all, labels=range(len(x_all)), \n",
    "                     save_name='S11-fitting_details_treated_81nm', printing=printing_plot)"
   ]
  },
  {
   "attachments": {},
   "cell_type": "markdown",
   "id": "21",
   "metadata": {},
   "source": [
    "### 2.2.2 Fitted parameters"
   ]
  },
  {
   "cell_type": "code",
   "execution_count": null,
   "id": "22",
   "metadata": {},
   "outputs": [],
   "source": [
    "fig, axes = layout_fig(4, 1, figsize=(8, 10))\n",
    "Viz.plot_curve(axes[0], x_all, y_all, plot_type='lineplot', xlabel='Time (s)', ylabel='Intensity (a.u.)', xlim=(-2, 115), yaxis_style='sci')\n",
    "Viz.plot_curve(axes[1], x_coor_all, parameters_all[:,0], plot_type='lineplot', xlabel='Time (s)', ylabel='Fitted a (a.u.)', xlim=(-2, 115))\n",
    "Viz.plot_curve(axes[2], x_coor_all, parameters_all[:,1], plot_type='lineplot', xlabel='Time (s)', ylabel='Fitted b (a.u.)', xlim=(-2, 115))\n",
    "Viz.plot_curve(axes[3], x_coor_all, parameters_all[:,2], plot_type='lineplot', xlabel='Time (s)', ylabel='Characteristic Time (s)', xlim=(-2, 115))\n",
    "printing_plot.savefig(fig, 'S8-treated_81nm-a_b_tau')\n",
    "plt.show()"
   ]
  },
  {
   "attachments": {},
   "cell_type": "markdown",
   "id": "23",
   "metadata": {},
   "source": [
    "#### 2.2.3 Remove Outliers"
   ]
  },
  {
   "attachments": {},
   "cell_type": "markdown",
   "id": "24",
   "metadata": {},
   "source": [
    "Because there is hard boundary when characteristic >= 1, so we can assume the characteristic data that >= 0.95 are outliers and remove from plot. And we also process the data with less noise to observe the trend.\n"
   ]
  },
  {
   "cell_type": "code",
   "execution_count": null,
   "id": "25",
   "metadata": {},
   "outputs": [],
   "source": [
    "x_coor_all_clean, tau_clean = remove_outlier(x_coor_all, parameters_all[:,2], 0.95)\n",
    "tau_smooth = smooth(tau_clean, 5)\n",
    "\n",
    "x_coor_all_clean_sample2 = np.copy(x_coor_all_clean)\n",
    "tau_clean_sample2 = np.copy(tau_clean)\n",
    "tau_smooth_sample2 = np.copy(tau_smooth)\n",
    "\n",
    "fig, ax = plt.subplots(1, 1, figsize=(8, 2.5), layout='compressed')\n",
    "Viz.plot_curve(ax, x_coor_all_clean_sample2, tau_clean_sample2, curve_y_fit=tau_smooth_sample2, plot_type='lineplot', \n",
    "           plot_colors=['k', '#bc5090'], xlabel='Time (s)', ylabel='Characteristic Time (s)', \n",
    "           yaxis_style='linear', markersize=3, xlim=(-2, 115))"
   ]
  },
  {
   "attachments": {},
   "cell_type": "markdown",
   "id": "26",
   "metadata": {},
   "source": [
    "#### 2.2.4 Plot with Background"
   ]
  },
  {
   "cell_type": "code",
   "execution_count": null,
   "id": "27",
   "metadata": {},
   "outputs": [],
   "source": [
    "x_coor_all_clean, tau_clean = remove_outlier(x_coor_all, parameters_all[:,2], 0.95)\n",
    "tau_smooth = smooth(tau_clean, 3)\n",
    "\n",
    "x_FineStep, colors_all = Viz.make_fine_step(x_coor_all_clean, tau_smooth, step=2, color=color_blue, saturation=1, savgol_filter_level=(15, 3))\n",
    "color_array = np.concatenate([np.expand_dims(x_FineStep, 1), colors_all], axis=1)\n",
    "\n",
    "x_all_sample2 = np.copy(x_all)\n",
    "y_all_sample2 = np.copy(y_all)\n",
    "color_array_sample2 = np.copy(color_array)\n",
    "\n",
    "fig, ax = plt.subplots(1, 1, figsize=(8, 2.5), layout='compressed')\n",
    "Viz.draw_background_colors(ax, color_array_sample2)\n",
    "ax.plot(x_all_sample2, y_all_sample2, color='k')\n",
    "Viz.set_labels(ax, xlabel='Time (s)', ylabel='Intensity (a.u.)', title=None, xlim=(-2, 115))\n",
    "plt.show()"
   ]
  },
  {
   "cell_type": "code",
   "execution_count": null,
   "id": "28",
   "metadata": {},
   "outputs": [],
   "source": [
    "np.save('../Data/Plume_results/treated_81nm-fitting_results(sklearn).npy', np.concatenate([np.expand_dims(x_coor_all, 1), parameters_all], axis=1))\n",
    "np.save('../Data/Plume_results/treated_81nm-bg_tau.npy', color_array_sample2)"
   ]
  },
  {
   "attachments": {},
   "cell_type": "markdown",
   "id": "29",
   "metadata": {},
   "source": [
    "### 2.3 Sample 3 - untreated_162nm"
   ]
  },
  {
   "attachments": {},
   "cell_type": "markdown",
   "id": "30",
   "metadata": {},
   "source": [
    "#### 2.3.1 Fitting Process"
   ]
  },
  {
   "cell_type": "code",
   "execution_count": null,
   "id": "31",
   "metadata": {},
   "outputs": [],
   "source": [
    "path = 'D:/STO_STO-Data/RHEED/STO_STO_Berkeley/test9_gaussian_fit_parameters_all-04232023.h5'\n",
    "D3_para = RHEED_parameter_dataset(path, camera_freq=500, sample_name='untreated_162nm')\n",
    "\n",
    "growth_list = ['growth_1', 'growth_2', 'growth_3', 'growth_4', 'growth_5']\n",
    "D3_para.viz_RHEED_parameter_trend(growth_list, spot='spot_2', metric_list=['img_sum'], head_tail=(100,300), interval=200)"
   ]
  },
  {
   "cell_type": "code",
   "execution_count": null,
   "id": "32",
   "metadata": {},
   "outputs": [],
   "source": [
    "growth_dict = {'growth_1':1, 'growth_2':1, 'growth_3':1, 'growth_4':3, 'growth_5':3}\n",
    "x_all, y_all = D3_para.load_multiple_curves(growth_dict.keys(), spot, metric, x_start=0, interval=0)\n",
    "\n",
    "parameters_all, x_coor_all, info = analyze_curves(D3_para, growth_dict, spot, metric, interval=0, fit_settings=fit_settings)\n",
    "[xs_all, ys_all, ys_fit_all, ys_nor_all, ys_nor_fit_all, ys_nor_fit_failed_all, labels_all, losses_all] = info\n",
    "\n",
    "# define two color regime\n",
    "x_y1 = x_coor_all[losses_all[:,0]>losses_all[:,1]]\n",
    "x_y2 = x_coor_all[losses_all[:,0]<losses_all[:,1]]\n",
    "color_array = Viz.two_color_array(x_coor_all, x_y1, x_y2, bgc1, bgc2, transparency=0.5)\n",
    "color_array = np.concatenate([np.expand_dims(x_coor_all, 1), color_array], axis=1)\n",
    "Viz.plot_fit_details(xs_all, ys_nor_all, ys_nor_fit_all, ys_nor_fit_failed_all, labels=range(len(x_all)), \n",
    "                     save_name='S12-fitting_details_untreated_162nm', printing=printing_plot)"
   ]
  },
  {
   "attachments": {},
   "cell_type": "markdown",
   "id": "33",
   "metadata": {},
   "source": [
    "#### 2.3.2 Fitted parameters"
   ]
  },
  {
   "cell_type": "code",
   "execution_count": null,
   "id": "34",
   "metadata": {},
   "outputs": [],
   "source": [
    "fig, axes = layout_fig(4, 1, figsize=(8, 10))\n",
    "Viz.plot_curve(axes[0], x_all, y_all, plot_type='lineplot', xlabel='Time (s)', ylabel='Intensity (a.u.)', xlim=(-2, 125), yaxis_style='sci')\n",
    "Viz.plot_curve(axes[1], x_coor_all, parameters_all[:,0], plot_type='lineplot', xlabel='Time (s)', ylabel='Fitted a (a.u.)', xlim=(-2, 125))\n",
    "Viz.plot_curve(axes[2], x_coor_all, parameters_all[:,1], plot_type='lineplot', xlabel='Time (s)', ylabel='Fitted b (a.u.)', xlim=(-2, 125))\n",
    "Viz.plot_curve(axes[3], x_coor_all, parameters_all[:,2], plot_type='lineplot', xlabel='Time (s)', ylabel='Characteristic Time (s)', xlim=(-2, 125))\n",
    "printing_plot.savefig(fig, 'S9-untreated_162nm-a_b_tau')\n",
    "plt.show()"
   ]
  },
  {
   "attachments": {},
   "cell_type": "markdown",
   "id": "35",
   "metadata": {},
   "source": [
    "#### 2.3.3 Remove outliers"
   ]
  },
  {
   "attachments": {},
   "cell_type": "markdown",
   "id": "36",
   "metadata": {},
   "source": [
    "Because there is hard boundary when characteristic >= 1, so we can assume the characteristic data that >= 0.95 are outliers and remove from plot. And we also process the data with less noise to observe the trend.\n"
   ]
  },
  {
   "cell_type": "code",
   "execution_count": null,
   "id": "37",
   "metadata": {},
   "outputs": [],
   "source": [
    "x_coor_all_clean, tau_clean = remove_outlier(x_coor_all, parameters_all[:,2], 0.95)\n",
    "tau_smooth = smooth(tau_clean, 5)\n",
    "\n",
    "x_coor_all_clean_sample3 = np.copy(x_coor_all_clean)\n",
    "tau_clean_sample3 = np.copy(tau_clean)\n",
    "tau_smooth_sample3 = np.copy(tau_smooth)\n",
    "fig, ax = plt.subplots(1, 1, figsize=(8, 2.5), layout='compressed')\n",
    "Viz.plot_curve(ax, x_coor_all_clean_sample3, tau_clean_sample3, curve_y_fit=tau_smooth_sample3, plot_type='lineplot', \n",
    "           plot_colors=['k', '#bc5090'], xlabel='Time (s)', ylabel='Characteristic Time (s)', \n",
    "           yaxis_style='linear', markersize=3, xlim=(-2, 125))"
   ]
  },
  {
   "attachments": {},
   "cell_type": "markdown",
   "id": "38",
   "metadata": {},
   "source": [
    "#### 2.3.4 Plot with Background"
   ]
  },
  {
   "cell_type": "code",
   "execution_count": null,
   "id": "39",
   "metadata": {},
   "outputs": [],
   "source": [
    "x_coor_all_clean, tau_clean = remove_outlier(x_coor_all, parameters_all[:,2], 0.95)\n",
    "tau_smooth = smooth(tau_clean, 3)\n",
    "\n",
    "x_FineStep, colors_all = Viz.make_fine_step(x_coor_all_clean, tau_smooth, step=2, color=color_blue, saturation=1, savgol_filter_level=(15, 3))\n",
    "color_array = np.concatenate([np.expand_dims(x_FineStep, 1), colors_all], axis=1)\n",
    "\n",
    "x_all_sample3 = np.copy(x_all)\n",
    "y_all_sample3 = np.copy(y_all)\n",
    "color_array_sample3 = np.copy(color_array)\n",
    "\n",
    "fig, ax = plt.subplots(1, 1, figsize=(8, 2.5), layout='compressed')\n",
    "Viz.draw_background_colors(ax, color_array_sample3)\n",
    "ax.plot(x_all_sample3, y_all_sample3, color='k')\n",
    "Viz.set_labels(ax, xlabel='Time (s)', ylabel='Intensity (a.u.)', title=None, xlim=(-2, 125))\n",
    "plt.show()"
   ]
  },
  {
   "cell_type": "code",
   "execution_count": null,
   "id": "40",
   "metadata": {},
   "outputs": [],
   "source": [
    "np.save('../Data/Plume_results/untreated_162nm-fitting_results(sklearn).npy', np.concatenate([np.expand_dims(x_coor_all, 1), parameters_all], axis=1))\n",
    "np.save('../Data/Plume_results/untreated_162nm-bg_tau.npy', color_array_sample3)"
   ]
  },
  {
   "attachments": {},
   "cell_type": "markdown",
   "id": "41",
   "metadata": {},
   "source": [
    "## 3. Summary of Figures"
   ]
  },
  {
   "attachments": {},
   "cell_type": "markdown",
   "id": "42",
   "metadata": {},
   "source": [
    "### 3.1 Plots of Characteristic Times with RHEED intensity"
   ]
  },
  {
   "attachments": {},
   "cell_type": "markdown",
   "id": "43",
   "metadata": {},
   "source": [
    "#### 3.1.1 Sample 1 - treated_213nm"
   ]
  },
  {
   "cell_type": "code",
   "execution_count": null,
   "id": "44",
   "metadata": {},
   "outputs": [],
   "source": [
    "x_all_sample1, y_all_sample1 = np.load('../Data/Plume_results/treated_213nm-x_all.npy'), np.load('../Data/Plume_results/treated_213nm-y_all.npy')\n",
    "x_sklearn_sample1, tau_sklearn_sample1 = np.swapaxes(np.load('../Data/Plume_results/treated_213nm-fitting_results(sklearn).npy'), 0, 1)[[0, -1]]\n",
    "bg_growth_sample1 = np.load('../Data/Plume_results/treated_213nm-bg_growth.npy')\n",
    "bg_tau_sample1 = np.load('../Data/Plume_results/treated_213nm-bg_tau.npy')\n",
    "\n",
    "y_all_sample1 = y_all_sample1[x_all_sample1<110]\n",
    "x_all_sample1 = x_all_sample1[x_all_sample1<110]\n",
    "tau_sklearn_sample1 = tau_sklearn_sample1[x_sklearn_sample1<110]\n",
    "x_sklearn_sample1 = x_sklearn_sample1[x_sklearn_sample1<110]\n",
    "bg_growth_sample1 = bg_growth_sample1[bg_growth_sample1[:, 0]<110]\n",
    "\n",
    "x_sklearn_sample1, tau_clean_sample1 = remove_outlier(x_sklearn_sample1, tau_sklearn_sample1, 0.95)\n",
    "tau_smooth_sample1 = smooth(tau_clean_sample1, 3)"
   ]
  },
  {
   "cell_type": "code",
   "execution_count": null,
   "id": "45",
   "metadata": {},
   "outputs": [],
   "source": [
    "fig, ax1 = plt.subplots(1, 1, figsize=(8, 2.5), layout='compressed')\n",
    "ax1.scatter(x_all_sample1, y_all_sample1, color='k', s=1)\n",
    "Viz.set_labels(ax1, xlabel='Time (s)', ylabel='Intensity (a.u.)', xlim=(-2, 130), ticks_both_sides=False)\n",
    "\n",
    "ax2 = ax1.twinx()\n",
    "ax2.scatter(x_sklearn_sample1, tau_clean_sample1, color=seq_colors[0], s=3)\n",
    "ax2.plot(x_sklearn_sample1, tau_smooth_sample1, color='#bc5090', markersize=3)\n",
    "Viz.set_labels(ax2, ylabel='Characteristic Time (s)', yaxis_style='lineplot', ylim=(-0.05, 0.5), ticks_both_sides=False)\n",
    "\n",
    "# colors.hex2color(seq_colors[0])\n",
    "ax2.tick_params(axis=\"y\", color='k', labelcolor=seq_colors[0])\n",
    "ax2.set_ylabel('Characteristic Time (s)', color=seq_colors[0])\n",
    "# ax2.tick_params(axis=\"y\", color='k', labelcolor=seq_colors[0])\n",
    "# ax2.set_ylabel('Characteristic Time (s)', color=seq_colors[0])\n",
    "plt.legend(['original', 'processed'], fontsize=8, loc=\"upper right\", frameon=True)\n",
    "printing_plot.savefig(fig, 'treated_213nm-no_bg')\n",
    "plt.show()"
   ]
  },
  {
   "cell_type": "code",
   "execution_count": null,
   "id": "46",
   "metadata": {},
   "outputs": [],
   "source": [
    "fig, ax1 = plt.subplots(1, 1, figsize=(8, 2.5), layout='compressed')\n",
    "Viz.draw_background_colors(ax1, bg_tau_sample1)\n",
    "ax1.scatter(x_all_sample1, y_all_sample1, color='k', s=1)\n",
    "Viz.set_labels(ax1, xlabel='Time (s)', ylabel='Intensity (a.u.)', xlim=(-2, 130), ticks_both_sides=False)\n",
    "\n",
    "ax2 = ax1.twinx()\n",
    "ax2.scatter(x_sklearn_sample1, tau_clean_sample1, color=seq_colors[0], s=3)\n",
    "ax2.plot(x_sklearn_sample1, tau_smooth_sample1, color='#bc5090', markersize=3)\n",
    "Viz.set_labels(ax2, ylabel='Characteristic Time (s)', yaxis_style='lineplot', ylim=(-0.05, 0.5), ticks_both_sides=False)\n",
    "ax2.tick_params(axis=\"y\", color='k', labelcolor=seq_colors[0])\n",
    "ax2.set_ylabel('Characteristic Time (s)', color=seq_colors[0])\n",
    "plt.legend(['original', 'processed'], fontsize=8, loc=\"upper right\", frameon=True)\n",
    "printing_plot.savefig(fig, 'treated_213nm-tau_bg')\n",
    "plt.show()"
   ]
  },
  {
   "cell_type": "code",
   "execution_count": null,
   "id": "47",
   "metadata": {},
   "outputs": [],
   "source": [
    "fig, ax1 = plt.subplots(1, 1, figsize=(8, 2.5), layout='compressed')\n",
    "Viz.draw_background_colors(ax1, bg_growth_sample1)\n",
    "ax1.scatter(x_all_sample1, y_all_sample1, color='k', s=1)\n",
    "Viz.set_labels(ax1, xlabel='Time (s)', ylabel='Intensity (a.u.)', xlim=(-2, 130), ticks_both_sides=False)\n",
    "\n",
    "ax2 = ax1.twinx()\n",
    "ax2.scatter(x_sklearn_sample1, tau_clean_sample1, color=seq_colors[0], s=3)\n",
    "ax2.plot(x_sklearn_sample1, tau_smooth_sample1, color='#bc5090', markersize=3)\n",
    "Viz.set_labels(ax2, ylabel='Characteristic Time (s)', yaxis_style='lineplot', ylim=(-0.05, 0.5), ticks_both_sides=False)\n",
    "ax2.tick_params(axis=\"y\", color='k', labelcolor=seq_colors[0])\n",
    "ax2.set_ylabel('Characteristic Time (s)', color=seq_colors[0])\n",
    "plt.legend(['original', 'processed'], fontsize=8, loc=\"upper right\", frameon=True)\n",
    "plt.xlim(-2, 115)\n",
    "printing_plot.savefig(fig, 'treated_213nm-growth_bg')\n",
    "plt.show()"
   ]
  },
  {
   "attachments": {},
   "cell_type": "markdown",
   "id": "48",
   "metadata": {},
   "source": [
    "#### 3.1.2 Sample 2 - treated_81nm"
   ]
  },
  {
   "cell_type": "code",
   "execution_count": null,
   "id": "49",
   "metadata": {},
   "outputs": [],
   "source": [
    "x_all_sample2, y_all_sample2 = np.load('../Data/Plume_results/treated_81nm-x_all.npy'), np.load('../Data/Plume_results/treated_81nm-y_all.npy')\n",
    "x_sklearn_sample2, tau_sklearn_sample2 = np.swapaxes(np.load('../Data/Plume_results/treated_81nm-fitting_results(sklearn).npy'), 0, 1)[[0, -1]]\n",
    "bg_growth_sample2 = np.load('../Data/Plume_results/treated_81nm-bg_growth.npy')\n",
    "bg_tau_sample2 = np.load('../Data/Plume_results/treated_81nm-bg_tau.npy')\n",
    "\n",
    "y_all_sample2 = y_all_sample2[x_all_sample2<110]\n",
    "x_all_sample2 = x_all_sample2[x_all_sample2<110]\n",
    "tau_sklearn_sample2 = tau_sklearn_sample2[x_sklearn_sample2<110]\n",
    "x_sklearn_sample2 = x_sklearn_sample2[x_sklearn_sample2<110]\n",
    "bg_growth_sample2 = bg_growth_sample2[bg_growth_sample2[:, 0]<110]\n",
    "\n",
    "x_sklearn_sample2, tau_clean_sample2 = remove_outlier(x_sklearn_sample2, tau_sklearn_sample2, 0.95)\n",
    "tau_smooth_sample2 = smooth(tau_clean_sample2, 3)"
   ]
  },
  {
   "cell_type": "code",
   "execution_count": null,
   "id": "50",
   "metadata": {},
   "outputs": [],
   "source": [
    "fig, ax1 = plt.subplots(1, 1, figsize=(8, 2.5), layout='compressed')\n",
    "ax1.scatter(x_all_sample2, y_all_sample2, color='k', s=1)\n",
    "Viz.set_labels(ax1, xlabel='Time (s)', ylabel='Intensity (a.u.)', xlim=(-2, 115), ticks_both_sides=False)\n",
    "\n",
    "ax2 = ax1.twinx()\n",
    "ax2.scatter(x_sklearn_sample2, tau_clean_sample2, color=seq_colors[0], s=3)\n",
    "ax2.plot(x_sklearn_sample2, tau_smooth_sample2, color='#bc5090', markersize=3)\n",
    "Viz.set_labels(ax2, ylabel='Characteristic Time (s)', yaxis_style='lineplot', ylim=(-0.05, 0.5), ticks_both_sides=False)\n",
    "ax2.tick_params(axis=\"y\", color='k', labelcolor=seq_colors[0])\n",
    "ax2.set_ylabel('Characteristic Time (s)', color=seq_colors[0])\n",
    "plt.legend(['original', 'processed'], fontsize=8, loc=\"upper right\", frameon=True)\n",
    "printing_plot.savefig(fig, 'treated_81nm-no_bg')\n",
    "plt.show()"
   ]
  },
  {
   "cell_type": "code",
   "execution_count": null,
   "id": "51",
   "metadata": {},
   "outputs": [],
   "source": [
    "fig, ax1 = plt.subplots(1, 1, figsize=(8, 2.5), layout='compressed')\n",
    "Viz.draw_background_colors(ax1, bg_tau_sample2)\n",
    "ax1.scatter(x_all_sample2, y_all_sample2, color='k', s=1)\n",
    "Viz.set_labels(ax1, xlabel='Time (s)', ylabel='Intensity (a.u.)', xlim=(-2, 115), ticks_both_sides=False)\n",
    "\n",
    "ax2 = ax1.twinx()\n",
    "ax2.scatter(x_sklearn_sample2, tau_clean_sample2, color=seq_colors[0], s=3)\n",
    "ax2.plot(x_sklearn_sample2, tau_smooth_sample2, color='#bc5090', markersize=3)\n",
    "Viz.set_labels(ax2, ylabel='Characteristic Time (s)', yaxis_style='lineplot', ylim=(-0.05, 0.5), ticks_both_sides=False)\n",
    "ax2.tick_params(axis=\"y\", color='k', labelcolor=seq_colors[0])\n",
    "ax2.set_ylabel('Characteristic Time (s)', color=seq_colors[0])\n",
    "plt.legend(['original', 'processed'], fontsize=8, loc=\"upper right\", frameon=True)\n",
    "printing_plot.savefig(fig, 'treated_81nm-tau_bg')\n",
    "plt.show()"
   ]
  },
  {
   "cell_type": "code",
   "execution_count": null,
   "id": "52",
   "metadata": {},
   "outputs": [],
   "source": [
    "fig, ax1 = plt.subplots(1, 1, figsize=(8, 2.5), layout='compressed')\n",
    "Viz.draw_background_colors(ax1, bg_growth_sample2)\n",
    "ax1.scatter(x_all_sample2, y_all_sample2, color='k', s=1)\n",
    "Viz.set_labels(ax1, xlabel='Time (s)', ylabel='Intensity (a.u.)', xlim=(-2, 115), ticks_both_sides=False)\n",
    "\n",
    "ax2 = ax1.twinx()\n",
    "ax2.scatter(x_sklearn_sample2, tau_clean_sample2, color=seq_colors[0], s=3)\n",
    "ax2.plot(x_sklearn_sample2, tau_smooth_sample2, color='#bc5090', markersize=3)\n",
    "Viz.set_labels(ax2, ylabel='Characteristic Time (s)', yaxis_style='lineplot', ylim=(-0.05, 0.5), ticks_both_sides=False)\n",
    "ax2.tick_params(axis=\"y\", color='k', labelcolor=seq_colors[0])\n",
    "ax2.set_ylabel('Characteristic Time (s)', color=seq_colors[0])\n",
    "plt.legend(['original', 'processed'], fontsize=8, loc=\"upper right\", frameon=True)\n",
    "plt.xlim(-2, 115)\n",
    "printing_plot.savefig(fig, 'treated_81nm-growth_bg')\n",
    "plt.show()"
   ]
  },
  {
   "attachments": {},
   "cell_type": "markdown",
   "id": "53",
   "metadata": {},
   "source": [
    "#### 3.1.3 Sample 3 - untreated_162nm"
   ]
  },
  {
   "cell_type": "code",
   "execution_count": null,
   "id": "54",
   "metadata": {},
   "outputs": [],
   "source": [
    "x_all_sample3, y_all_sample3 = np.load('../Data/Plume_results/untreated_162nm-x_all.npy'), np.load('../Data/Plume_results/untreated_162nm-y_all.npy')\n",
    "x_sklearn_sample3, tau_sklearn_sample3 = np.swapaxes(np.load('../Data/Plume_results/untreated_162nm-fitting_results(sklearn).npy'), 0, 1)[[0, -1]]\n",
    "bg_growth_sample3 = np.load('../Data/Plume_results/untreated_162nm-bg_growth.npy')\n",
    "bg_tau_sample3 = np.load('../Data/Plume_results/untreated_162nm-bg_tau.npy')\n",
    "\n",
    "y_all_sample3 = y_all_sample3[x_all_sample3<110]\n",
    "x_all_sample3 = x_all_sample3[x_all_sample3<110]\n",
    "tau_sklearn_sample3 = tau_sklearn_sample3[x_sklearn_sample3<110]\n",
    "x_sklearn_sample3 = x_sklearn_sample3[x_sklearn_sample3<110]\n",
    "bg_growth_sample3 = bg_growth_sample3[bg_growth_sample3[:, 0]<110]\n",
    "\n",
    "x_sklearn_sample3, tau_clean_sample3 = remove_outlier(x_sklearn_sample3, tau_sklearn_sample3, 0.95)\n",
    "tau_smooth_sample3 = smooth(tau_clean_sample3, 3)"
   ]
  },
  {
   "cell_type": "code",
   "execution_count": null,
   "id": "55",
   "metadata": {},
   "outputs": [],
   "source": [
    "fig, ax1 = plt.subplots(1, 1, figsize=(8, 2.5), layout='compressed')\n",
    "ax1.scatter(x_all_sample3, y_all_sample3, color='k', s=1)\n",
    "Viz.set_labels(ax1, xlabel='Time (s)', ylabel='Intensity (a.u.)', xlim=(-2, 200), ticks_both_sides=False)\n",
    "\n",
    "ax2 = ax1.twinx()\n",
    "ax2.scatter(x_sklearn_sample3, tau_clean_sample3, color=seq_colors[0], s=3)\n",
    "ax2.plot(x_sklearn_sample3, tau_smooth_sample3, color='#bc5090', markersize=3)\n",
    "Viz.set_labels(ax2, ylabel='Characteristic Time (s)', yaxis_style='lineplot', ylim=(-0.05, 0.5), ticks_both_sides=False)\n",
    "ax2.tick_params(axis=\"y\", color='k', labelcolor=seq_colors[0])\n",
    "ax2.set_ylabel('Characteristic Time (s)', color=seq_colors[0])\n",
    "plt.legend(['original', 'processed'], fontsize=8, loc=\"upper right\", frameon=True)\n",
    "printing_plot.savefig(fig, 'untreated_162nm-no_bg')\n",
    "plt.show()"
   ]
  },
  {
   "cell_type": "code",
   "execution_count": null,
   "id": "56",
   "metadata": {},
   "outputs": [],
   "source": [
    "fig, ax1 = plt.subplots(1, 1, figsize=(8, 2.5), layout='compressed')\n",
    "Viz.draw_background_colors(ax1, bg_tau_sample3)\n",
    "ax1.scatter(x_all_sample3, y_all_sample3, color='k', s=1)\n",
    "Viz.set_labels(ax1, xlabel='Time (s)', ylabel='Intensity (a.u.)', xlim=(-2, 125), ticks_both_sides=False)\n",
    "\n",
    "ax2 = ax1.twinx()\n",
    "ax2.scatter(x_sklearn_sample3, tau_clean_sample3, color=seq_colors[0], s=3)\n",
    "ax2.plot(x_sklearn_sample3, tau_smooth_sample3, color='#bc5090', markersize=3)\n",
    "Viz.set_labels(ax2, ylabel='Characteristic Time (s)', yaxis_style='lineplot', ylim=(-0.05, 0.5), ticks_both_sides=False)\n",
    "ax2.tick_params(axis=\"y\", color='k', labelcolor=seq_colors[0])\n",
    "ax2.set_ylabel('Characteristic Time (s)', color=seq_colors[0])\n",
    "plt.legend(['original', 'processed'], fontsize=8, loc=\"upper right\", frameon=True)\n",
    "printing_plot.savefig(fig, 'untreated_162nm-tau_bg')\n",
    "plt.show()"
   ]
  },
  {
   "cell_type": "code",
   "execution_count": null,
   "id": "57",
   "metadata": {},
   "outputs": [],
   "source": [
    "fig, ax1 = plt.subplots(1, 1, figsize=(8, 2.5), layout='compressed')\n",
    "Viz.draw_background_colors(ax1, bg_growth_sample3)\n",
    "ax1.scatter(x_all_sample3, y_all_sample3, color='k', s=1)\n",
    "Viz.set_labels(ax1, xlabel='Time (s)', ylabel='Intensity (a.u.)', xlim=(-2, 125), ticks_both_sides=False)\n",
    "\n",
    "ax2 = ax1.twinx()\n",
    "ax2.scatter(x_sklearn_sample3, tau_clean_sample3, color=seq_colors[0], s=3)\n",
    "# ax2.plot(x_sklearn_sample3, tau_smooth_sample3, color='#bc5090', markersize=3)\n",
    "ax2.plot(x_sklearn_sample3, tau_smooth_sample3, color='#bc5090', markersize=3)\n",
    "Viz.set_labels(ax2, ylabel='Characteristic Time (s)', yaxis_style='lineplot', ylim=(-0.05, 0.5), ticks_both_sides=False)\n",
    "ax2.tick_params(axis=\"y\", color='k', labelcolor=seq_colors[0])\n",
    "ax2.set_ylabel('Characteristic Time (s)', color=seq_colors[0])\n",
    "plt.legend(['original', 'processed'], fontsize=8, loc=\"upper right\", frameon=True)\n",
    "plt.xlim(-2, 115)\n",
    "printing_plot.savefig(fig, 'untreated_162nm-growth_bg')\n",
    "plt.show()"
   ]
  },
  {
   "attachments": {},
   "cell_type": "markdown",
   "id": "58",
   "metadata": {},
   "source": [
    "### 3.2 Violin Plot"
   ]
  },
  {
   "cell_type": "code",
   "execution_count": null,
   "id": "59",
   "metadata": {},
   "outputs": [],
   "source": [
    "x_sklearn_sample1, tau_sklearn_sample1"
   ]
  },
  {
   "cell_type": "code",
   "execution_count": null,
   "id": "60",
   "metadata": {},
   "outputs": [],
   "source": [
    "x_all_sample1, y_all_sample1 = np.load('../Data/Plume_results/treated_213nm-x_all.npy'), np.load('../Data/Plume_results/treated_213nm-y_all.npy')\n",
    "x_sklearn_sample1, tau_sklearn_sample1 = np.swapaxes(np.load('../Data/Plume_results/treated_213nm-fitting_results(sklearn).npy'), 0, 1)[[0, -1]]\n",
    "bg_growth_sample1 = np.load('../Data/Plume_results/treated_213nm-bg_growth.npy')\n",
    "bg_tau_sample1 = np.load('../Data/Plume_results/treated_213nm-bg_tau.npy')\n",
    "\n",
    "# y_all_sample1 = y_all_sample1[x_all_sample1<110]\n",
    "# x_all_sample1 = x_all_sample1[x_all_sample1<110]\n",
    "# tau_sklearn_sample1 = tau_sklearn_sample1[x_sklearn_sample1<110]\n",
    "# x_sklearn_sample1 = x_sklearn_sample1[x_sklearn_sample1<110]\n",
    "# bg_growth_sample1 = bg_growth_sample1[bg_growth_sample1[:, 0]<110]\n",
    "\n",
    "x_sklearn_sample1, tau_clean_sample1 = remove_outlier(x_sklearn_sample1, tau_sklearn_sample1, 0.95)\n",
    "tau_smooth_sample1 = smooth(tau_clean_sample1, 3)"
   ]
  },
  {
   "cell_type": "code",
   "execution_count": null,
   "id": "61",
   "metadata": {},
   "outputs": [],
   "source": [
    "x_all_sample2, y_all_sample2 = np.load('../Data/Plume_results/treated_81nm-x_all.npy'), np.load('../Data/Plume_results/treated_81nm-y_all.npy')\n",
    "x_sklearn_sample2, tau_sklearn_sample2 = np.swapaxes(np.load('../Data/Plume_results/treated_81nm-fitting_results(sklearn).npy'), 0, 1)[[0, -1]]\n",
    "bg_growth_sample2 = np.load('../Data/Plume_results/treated_81nm-bg_growth.npy')\n",
    "bg_tau_sample2 = np.load('../Data/Plume_results/treated_81nm-bg_tau.npy')\n",
    "\n",
    "# y_all_sample2 = y_all_sample2[x_all_sample2<110]\n",
    "# x_all_sample2 = x_all_sample2[x_all_sample2<110]\n",
    "# tau_sklearn_sample2 = tau_sklearn_sample2[x_sklearn_sample2<110]\n",
    "# x_sklearn_sample2 = x_sklearn_sample2[x_sklearn_sample2<110]\n",
    "# bg_growth_sample2 = bg_growth_sample2[bg_growth_sample2[:, 0]<110]\n",
    "\n",
    "x_sklearn_sample2, tau_clean_sample2 = remove_outlier(x_sklearn_sample2, tau_sklearn_sample2, 0.9999)\n",
    "tau_smooth_sample2 = smooth(tau_clean_sample2, 3)"
   ]
  },
  {
   "cell_type": "code",
   "execution_count": null,
   "id": "62",
   "metadata": {},
   "outputs": [],
   "source": [
    "x_all_sample3, y_all_sample3 = np.load('../Data/Plume_results/untreated_162nm-x_all.npy'), np.load('../Data/Plume_results/untreated_162nm-y_all.npy')\n",
    "x_sklearn_sample3, tau_sklearn_sample3 = np.swapaxes(np.load('../Data/Plume_results/untreated_162nm-fitting_results(sklearn).npy'), 0, 1)[[0, -1]]\n",
    "bg_growth_sample3 = np.load('../Data/Plume_results/untreated_162nm-bg_growth.npy')\n",
    "bg_tau_sample3 = np.load('../Data/Plume_results/untreated_162nm-bg_tau.npy')\n",
    "\n",
    "# y_all_sample3 = y_all_sample3[x_all_sample3<110]\n",
    "# x_all_sample3 = x_all_sample3[x_all_sample3<110]\n",
    "# tau_sklearn_sample3 = tau_sklearn_sample3[x_sklearn_sample3<110]\n",
    "# x_sklearn_sample3 = x_sklearn_sample3[x_sklearn_sample3<110]\n",
    "# bg_growth_sample3 = bg_growth_sample3[bg_growth_sample3[:, 0]<110]\n",
    "\n",
    "x_sklearn_sample3, tau_clean_sample3 = remove_outlier(x_sklearn_sample3, tau_sklearn_sample3, 0.95)\n",
    "tau_smooth_sample3 = smooth(tau_clean_sample3, 3)"
   ]
  },
  {
   "cell_type": "code",
   "execution_count": null,
   "id": "63",
   "metadata": {},
   "outputs": [],
   "source": [
    "fig, ax = plt.subplots(figsize=(8, 2.5), layout='compressed')\n",
    "titles = ['Treated substrate\\n(step width=213±88nm)',\n",
    "          'Treated substrate\\n(step width=81±44nm)',\n",
    "          'Untreated substrate\\n(step width=162±83μm)']\n",
    "\n",
    "ax = sns.violinplot(data=[tau_clean_sample1, tau_clean_sample2, tau_clean_sample3], \n",
    "                    palette=[color_blue, color_orange, color_purple], linewidth=0.8, inner=None)\n",
    "Viz.set_labels(ax, ylabel='Characteristic Time (s)', ticks_both_sides=False, yaxis_style='linear')\n",
    "Viz.label_violinplot(ax, [tau_clean_sample1, tau_clean_sample2, tau_clean_sample3], label_type='median', text_pos='center')\n",
    "ax.set_xticklabels(titles)\n",
    "printing.savefig(fig, 'violinplot_plot')\n",
    "plt.show()"
   ]
  },
  {
   "cell_type": "code",
   "execution_count": null,
   "id": "64",
   "metadata": {},
   "outputs": [],
   "source": []
  },
  {
   "cell_type": "code",
   "execution_count": null,
   "id": "65",
   "metadata": {},
   "outputs": [],
   "source": [
    "fig, ax = plt.subplots(figsize=(8, 2.5), layout='compressed')\n",
    "titles = ['Treated substrate\\n(step width=213±88nm)',\n",
    "          'Treated substrate\\n(step width=81±44nm)',\n",
    "          'Untreated substrate\\n(step width=162±83μm)']\n",
    "\n",
    "ax = sns.violinplot(data=[tau_clean_sample1, tau_clean_sample2, tau_clean_sample3], \n",
    "                    palette=[color_blue, color_orange, color_purple], linewidth=0.8, inner=None)\n",
    "Viz.set_labels(ax, ylabel='Characteristic Time (s)', ticks_both_sides=False, yaxis_style='linear')\n",
    "Viz.label_violinplot(ax, [tau_clean_sample1, tau_clean_sample2, tau_clean_sample3], label_type='average', text_pos='center')\n",
    "ax.set_xticklabels(titles)\n",
    "printing.savefig(fig, 'violinplot_plot')\n",
    "plt.show()"
   ]
  },
  {
   "cell_type": "code",
   "execution_count": null,
   "id": "66",
   "metadata": {},
   "outputs": [],
   "source": []
  },
  {
   "cell_type": "code",
   "execution_count": null,
   "id": "67",
   "metadata": {},
   "outputs": [],
   "source": [
    "# align the data with time\n",
    "tau_clean_sample1 = tau_clean_sample1[x_sklearn_sample1<110]\n",
    "x_sklearn_sample1 = x_sklearn_sample1[x_sklearn_sample1<110]\n",
    "\n",
    "tau_clean_sample2 = tau_clean_sample2[x_sklearn_sample2<110]\n",
    "x_sklearn_sample2 = x_sklearn_sample2[x_sklearn_sample2<110]\n",
    "\n",
    "tau_clean_sample3 = tau_clean_sample3[x_sklearn_sample3<110]\n",
    "x_sklearn_sample3 = x_sklearn_sample3[x_sklearn_sample3<110]"
   ]
  },
  {
   "cell_type": "code",
   "execution_count": null,
   "id": "68",
   "metadata": {},
   "outputs": [],
   "source": [
    "fig, ax = plt.subplots(figsize=(8, 2.5), layout='compressed')\n",
    "titles = ['Treated substrate\\n(step width=213±88nm)',\n",
    "          'Treated substrate\\n(step width=81±44nm)',\n",
    "          'Untreated substrate\\n(step width=162±83μm)']\n",
    "\n",
    "ax = sns.violinplot(data=[tau_clean_sample1, tau_clean_sample2, tau_clean_sample3], \n",
    "                    palette=[color_blue, color_orange, color_purple], linewidth=0.8, inner=None)\n",
    "Viz.set_labels(ax, ylabel='Characteristic Time (s)', ticks_both_sides=False, yaxis_style='linear')\n",
    "Viz.label_violinplot(ax, [tau_clean_sample1, tau_clean_sample2, tau_clean_sample3], label_type='average', text_pos='center')\n",
    "ax.set_xticklabels(titles)\n",
    "printing.savefig(fig, 'violinplot_plot')\n",
    "plt.show()"
   ]
  },
  {
   "attachments": {},
   "cell_type": "markdown",
   "id": "69",
   "metadata": {},
   "source": [
    "### 3.3 Summary Figure "
   ]
  },
  {
   "cell_type": "code",
   "execution_count": null,
   "id": "70",
   "metadata": {},
   "outputs": [],
   "source": [
    "align_time = True\n",
    "normalize = True\n",
    "\n",
    "seq_colors = ['#00429d','#2e59a8','#4771b2','#5d8abd','#73a2c6','#8abccf','#a5d5d8','#c5eddf','#ffffe0']\n",
    "fig, axes = layout_fig(3, 1, figsize=(8, 8))\n",
    "ax1, ax3, ax5 = axes[0], axes[1], axes[2]\n",
    "\n",
    "x_all_sample1, y_all_sample1 = np.load('../Data/Plume_results/treated_213nm-x_all.npy'), np.load('../Data/Plume_results/treated_213nm-y_all.npy')\n",
    "x_sklearn_sample1, tau_sklearn_sample1 = np.swapaxes(np.load('../Data/Plume_results/treated_213nm-fitting_results(sklearn).npy'), 0, 1)[[0, -1]]\n",
    "bg_growth_sample1 = np.load('../Data/Plume_results/treated_213nm-bg_growth.npy')\n",
    "\n",
    "x_all_sample2, y_all_sample2 = np.load('../Data/Plume_results/treated_81nm-x_all.npy'), np.load('../Data/Plume_results/treated_81nm-y_all.npy')\n",
    "x_sklearn_sample2, tau_sklearn_sample2 = np.swapaxes(np.load('../Data/Plume_results/treated_81nm-fitting_results(sklearn).npy'), 0, 1)[[0, -1]]\n",
    "bg_growth_sample2 = np.load('../Data/Plume_results/treated_81nm-bg_growth.npy')\n",
    "\n",
    "x_all_sample3, y_all_sample3 = np.load('../Data/Plume_results/untreated_162nm-x_all.npy'), np.load('../Data/Plume_results/untreated_162nm-y_all.npy')\n",
    "x_sklearn_sample3, tau_sklearn_sample3 = np.swapaxes(np.load('../Data/Plume_results/untreated_162nm-fitting_results(sklearn).npy'), 0, 1)[[0, -1]]\n",
    "bg_growth_sample3 = np.load('../Data/Plume_results/untreated_162nm-bg_growth.npy')\n",
    "\n",
    "\n",
    "if align_time:\n",
    "    y_all_sample1 = y_all_sample1[x_all_sample1<110]\n",
    "    x_all_sample1 = x_all_sample1[x_all_sample1<110]\n",
    "    tau_sklearn_sample1 = tau_sklearn_sample1[x_sklearn_sample1<110]\n",
    "    x_sklearn_sample1 = x_sklearn_sample1[x_sklearn_sample1<110]\n",
    "    bg_growth_sample1 = bg_growth_sample1[bg_growth_sample1[:, 0]<110]\n",
    "    \n",
    "    y_all_sample2 = y_all_sample2[x_all_sample2<110]\n",
    "    x_all_sample2 = x_all_sample2[x_all_sample2<110]\n",
    "    tau_sklearn_sample2 = tau_sklearn_sample2[x_sklearn_sample2<110]\n",
    "    x_sklearn_sample2 = x_sklearn_sample2[x_sklearn_sample2<110]\n",
    "    bg_growth_sample2 = bg_growth_sample2[bg_growth_sample2[:, 0]<110]\n",
    "    \n",
    "    y_all_sample3 = y_all_sample3[x_all_sample3<110]\n",
    "    x_all_sample3 = x_all_sample3[x_all_sample3<110]\n",
    "    tau_sklearn_sample3 = tau_sklearn_sample3[x_sklearn_sample3<110]\n",
    "    x_sklearn_sample3 = x_sklearn_sample3[x_sklearn_sample3<110]\n",
    "    bg_growth_sample3 = bg_growth_sample3[bg_growth_sample3[:, 0]<110]\n",
    "\n",
    "\n",
    "if normalize:\n",
    "    y_all_sample1 = NormalizeData(y_all_sample1, lb=np.min(y_all_sample1), ub=np.max(y_all_sample1))\n",
    "    y_all_sample2 = NormalizeData(y_all_sample2, lb=np.min(y_all_sample2), ub=np.max(y_all_sample2))\n",
    "    y_all_sample3 = NormalizeData(y_all_sample3, lb=np.min(y_all_sample3), ub=np.max(y_all_sample3))\n",
    "\n",
    "x_sklearn_sample1, tau_clean_sample1 = remove_outlier(x_sklearn_sample1, tau_sklearn_sample1, 0.95)\n",
    "tau_smooth_sample1 = smooth(tau_clean_sample1, 3)\n",
    "\n",
    "x_sklearn_sample2, tau_clean_sample2 = remove_outlier(x_sklearn_sample2, tau_sklearn_sample2, 0.95)\n",
    "tau_smooth_sample2 = smooth(tau_clean_sample2, 3)\n",
    "\n",
    "x_sklearn_sample3, tau_clean_sample3 = remove_outlier(x_sklearn_sample3, tau_sklearn_sample3, 0.95)\n",
    "tau_smooth_sample3 = smooth(tau_clean_sample3, 3)\n",
    "\n",
    "\n",
    "Viz.draw_background_colors(ax1, bg_growth_sample1)\n",
    "ax1.scatter(x_all_sample1, y_all_sample1, color='k', s=1)\n",
    "Viz.set_labels(ax1, xlabel='Time (s)', ylabel='Intensity (a.u.)', xlim=(-2, 130), ticks_both_sides=False)\n",
    "\n",
    "ax2 = ax1.twinx()\n",
    "ax2.scatter(x_sklearn_sample1, tau_clean_sample1, color=seq_colors[0], s=3)\n",
    "ax2.plot(x_sklearn_sample1, tau_smooth_sample1, color='#bc5090', markersize=3)\n",
    "Viz.set_labels(ax2, ylabel='Characteristic Time (s)', yaxis_style='lineplot', ylim=(-0.05, 0.5), ticks_both_sides=False)\n",
    "ax2.tick_params(axis=\"y\", color='k', labelcolor=seq_colors[0])\n",
    "ax2.set_ylabel('Characteristic Time (s)', color=seq_colors[0])\n",
    "ax2.legend(['original', 'processed'], fontsize=8, loc=\"upper left\", frameon=True, bbox_to_anchor=(0.04, 1))\n",
    "\n",
    "\n",
    "Viz.draw_background_colors(ax3, bg_growth_sample2)\n",
    "ax3.scatter(x_all_sample2, y_all_sample2, color='k', s=1)\n",
    "Viz.set_labels(ax3, xlabel='Time (s)', ylabel='Intensity (a.u.)', xlim=(-2, 115), ticks_both_sides=False)\n",
    "\n",
    "ax4 = ax3.twinx()\n",
    "ax4.scatter(x_sklearn_sample2, tau_clean_sample2, color=seq_colors[0], s=3)\n",
    "ax4.plot(x_sklearn_sample2, tau_smooth_sample2, color='#bc5090', markersize=3)\n",
    "Viz.set_labels(ax4, ylabel='Characteristic Time (s)', yaxis_style='lineplot', ylim=(-0.05, 0.5), ticks_both_sides=False)\n",
    "ax4.tick_params(axis=\"y\", color='k', labelcolor=seq_colors[0])\n",
    "ax4.set_ylabel('Characteristic Time (s)', color=seq_colors[0])\n",
    "ax4.legend(['original', 'processed'], fontsize=8, loc=\"upper left\", frameon=True, bbox_to_anchor=(0.25, 1))    \n",
    "\n",
    "\n",
    "Viz.draw_background_colors(ax5, bg_growth_sample3)\n",
    "ax5.scatter(x_all_sample3, y_all_sample3, color='k', s=1)\n",
    "Viz.set_labels(ax5, xlabel='Time (s)', ylabel='Intensity (a.u.)', xlim=(-2, 125), ticks_both_sides=False)\n",
    "\n",
    "ax6 = ax5.twinx()\n",
    "ax6.scatter(x_sklearn_sample3, tau_clean_sample3, color=seq_colors[0], s=3)\n",
    "ax6.plot(x_sklearn_sample3, tau_smooth_sample3, color='#bc5090', markersize=3)\n",
    "Viz.set_labels(ax6, ylabel='Characteristic Time (s)', yaxis_style='lineplot', ylim=(-0.05, 0.5), ticks_both_sides=False)\n",
    "ax6.tick_params(axis=\"y\", color='k', labelcolor=seq_colors[0])\n",
    "ax6.set_ylabel('Characteristic Time (s)', color=seq_colors[0])\n",
    "ax6.legend(['original', 'processed'], fontsize=8, loc=\"upper left\", frameon=True, bbox_to_anchor=(0.07, 1)) \n",
    "\n",
    "if align_time:\n",
    "    for ax in [ax1, ax2, ax3, ax4, ax5, ax6]:\n",
    "        ax.set_xlim(-2, 115)\n",
    "        \n",
    "printing_plot.savefig(fig, 'growth_bg-characterization_time')\n",
    "plt.show()"
   ]
  },
  {
   "cell_type": "code",
   "execution_count": null,
   "id": "71",
   "metadata": {},
   "outputs": [],
   "source": []
  }
 ],
 "metadata": {
  "kernelspec": {
   "display_name": "RHEED",
   "language": "python",
   "name": "python3"
  },
  "language_info": {
   "codemirror_mode": {
    "name": "ipython",
    "version": 3
   },
   "file_extension": ".py",
   "mimetype": "text/x-python",
   "name": "python",
   "nbconvert_exporter": "python",
   "pygments_lexer": "ipython3",
   "version": "3.10.0"
  }
 },
 "nbformat": 4,
 "nbformat_minor": 5
}
